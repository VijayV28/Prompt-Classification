{
 "cells": [
  {
   "cell_type": "markdown",
   "metadata": {},
   "source": [
    "#### 1 - Importing necessary libraries"
   ]
  },
  {
   "cell_type": "code",
   "execution_count": 2,
   "metadata": {},
   "outputs": [],
   "source": [
    "from typing import List\n",
    "from langchain.chains.llm import LLMChain\n",
    "from langchain_core.prompts import PromptTemplate\n",
    "\n",
    "from langchain_core.pydantic_v1 import BaseModel, Field\n",
    "from langchain.output_parsers import PydanticOutputParser\n",
    "import json\n",
    "from langchain_openai import ChatOpenAI\n",
    "\n",
    "import pandas as pd"
   ]
  },
  {
   "cell_type": "code",
   "execution_count": 3,
   "metadata": {},
   "outputs": [
    {
     "data": {
      "text/plain": [
       "True"
      ]
     },
     "execution_count": 3,
     "metadata": {},
     "output_type": "execute_result"
    }
   ],
   "source": [
    "from dotenv import load_dotenv\n",
    "\n",
    "load_dotenv(\"../.env\")"
   ]
  },
  {
   "cell_type": "markdown",
   "metadata": {},
   "source": [
    "#### 2 - Defining the data structures and the parser"
   ]
  },
  {
   "cell_type": "code",
   "execution_count": 4,
   "metadata": {},
   "outputs": [],
   "source": [
    "# Base data structure\n",
    "class PromptObject(BaseModel):\n",
    "    prompt: str = Field(description=\"prompt provided by the user\")\n",
    "    cluster: str = Field(description=\"Cluster to which the prompt belongs to\")\n",
    "    sub_classification: str = Field(\n",
    "        description=\"Sub classification of the prompt within the cluster\"\n",
    "    )\n",
    "\n",
    "\n",
    "# Data structure storing the objects\n",
    "class PromptObjectList(BaseModel):\n",
    "    prompt_objects: List[PromptObject] = Field(\n",
    "        description=\"List of PromptObject objects\"\n",
    "    )\n",
    "\n",
    "\n",
    "parser = PydanticOutputParser(pydantic_object=PromptObjectList)"
   ]
  },
  {
   "cell_type": "markdown",
   "metadata": {},
   "source": [
    "#### 3 - Prompt Template"
   ]
  },
  {
   "cell_type": "code",
   "execution_count": 19,
   "metadata": {},
   "outputs": [],
   "source": [
    "template = \"\"\"\n",
    "Generate a total of 15 prompts after considering the following information:\n",
    "\n",
    "Prompt topic: {topic}\n",
    "Prompt sub-topic: {sub_topic}\n",
    "\n",
    "Each prompt should be unique and should be related to the topic and sub-topic provided. The prompt should be realistic and should resemble an actual user's prompt.\n",
    "\n",
    "Make sure you generate 15 different prompts and that none of them are identical. Please \n",
    "follow the instructions given below on how the output should be structured:\n",
    "\n",
    "{format_instructions}\n",
    "\n",
    "\"\"\"\n",
    "\n",
    "prompt_template = PromptTemplate(\n",
    "    input_variables=[\"topic\", \"sub_topic\"],\n",
    "    template=template,\n",
    "    partial_variables={\"format_instructions\": parser.get_format_instructions()},\n",
    ")"
   ]
  },
  {
   "cell_type": "code",
   "execution_count": 20,
   "metadata": {},
   "outputs": [
    {
     "name": "stdout",
     "output_type": "stream",
     "text": [
      "input_variables=['sub_topic', 'topic'] partial_variables={'format_instructions': 'The output should be formatted as a JSON instance that conforms to the JSON schema below.\\n\\nAs an example, for the schema {\"properties\": {\"foo\": {\"title\": \"Foo\", \"description\": \"a list of strings\", \"type\": \"array\", \"items\": {\"type\": \"string\"}}}, \"required\": [\"foo\"]}\\nthe object {\"foo\": [\"bar\", \"baz\"]} is a well-formatted instance of the schema. The object {\"properties\": {\"foo\": [\"bar\", \"baz\"]}} is not well-formatted.\\n\\nHere is the output schema:\\n```\\n{\"properties\": {\"prompt_objects\": {\"title\": \"Prompt Objects\", \"description\": \"List of PromptObject objects\", \"type\": \"array\", \"items\": {\"$ref\": \"#/definitions/PromptObject\"}}}, \"required\": [\"prompt_objects\"], \"definitions\": {\"PromptObject\": {\"title\": \"PromptObject\", \"type\": \"object\", \"properties\": {\"prompt\": {\"title\": \"Prompt\", \"description\": \"prompt provided by the user\", \"type\": \"string\"}, \"cluster\": {\"title\": \"Cluster\", \"description\": \"Cluster to which the prompt belongs to\", \"type\": \"string\"}, \"sub_classification\": {\"title\": \"Sub Classification\", \"description\": \"Sub classification of the prompt within the cluster\", \"type\": \"string\"}}, \"required\": [\"prompt\", \"cluster\", \"sub_classification\"]}}}\\n```'} template=\"\\nGenerate a total of 15 prompts after considering the following information:\\n\\nPrompt topic: {topic}\\nPrompt sub-topic: {sub_topic}\\n\\nEach prompt should be unique and should be related to the topic and sub-topic provided. The prompt should be realistic and should resemble an actual user's prompt.\\n\\nMake sure you generate 15 different prompts and that none of them are identical. Please \\nfollow the instructions given below on how the output should be structured:\\n\\n{format_instructions}\\n\\n\"\n"
     ]
    }
   ],
   "source": [
    "print(prompt_template)"
   ]
  },
  {
   "cell_type": "markdown",
   "metadata": {},
   "source": [
    "#### 4 - Initialzing the LLM and Chain"
   ]
  },
  {
   "cell_type": "code",
   "execution_count": 6,
   "metadata": {},
   "outputs": [],
   "source": [
    "llm = ChatOpenAI(model=\"gpt-4o-mini\", temperature=0.4)\n",
    "\n",
    "chain = prompt_template | llm | parser"
   ]
  },
  {
   "cell_type": "markdown",
   "metadata": {},
   "source": [
    "#### 5 - Testing the Prompt Generation"
   ]
  },
  {
   "cell_type": "code",
   "execution_count": 15,
   "metadata": {},
   "outputs": [],
   "source": [
    "topic = \"Business and Productivity\"\n",
    "sub_topic = \"Email Generation\""
   ]
  },
  {
   "cell_type": "code",
   "execution_count": 16,
   "metadata": {},
   "outputs": [],
   "source": [
    "result = chain.invoke({\"topic\": topic, \"sub_topic\": sub_topic})"
   ]
  },
  {
   "cell_type": "code",
   "execution_count": 18,
   "metadata": {},
   "outputs": [
    {
     "data": {
      "text/plain": [
       "[PromptObject(prompt=\"Can you help me draft a follow-up email to a client who hasn't responded to my last message about our proposal?\", cluster='Business and Productivity', sub_classification='Email Generation'),\n",
       " PromptObject(prompt='I need to write a professional email to my team announcing the changes in our project deadlines. What should I include?', cluster='Business and Productivity', sub_classification='Email Generation'),\n",
       " PromptObject(prompt='What is the best way to compose a thank-you email to a colleague who helped me with a recent project?', cluster='Business and Productivity', sub_classification='Email Generation')]"
      ]
     },
     "execution_count": 18,
     "metadata": {},
     "output_type": "execute_result"
    }
   ],
   "source": [
    "result.prompt_objects"
   ]
  },
  {
   "cell_type": "code",
   "execution_count": 56,
   "metadata": {},
   "outputs": [
    {
     "name": "stdout",
     "output_type": "stream",
     "text": [
      "Error: Failed to parse PromptObjectList from completion [{\"prompt\": \"Can you help me draft a follow-up email to a client who hasn't responded to my last message regarding the project proposal?\", \"cluster\": \"Client Communication\", \"sub_classification\": \"Follow-up Emails\"}, {\"prompt\": \"I need to write a thank-you email to my team for their hard work on the recent project. Can you suggest a positive and motivating tone?\", \"cluster\": \"Team Management\", \"sub_classification\": \"Appreciation Emails\"}, {\"prompt\": \"What should I include in an introductory email to potential partners for a new business venture? I want to make a strong first impression.\", \"cluster\": \"Networking\", \"sub_classification\": \"Introductory Emails\"}]. Got: 1 validation error for PromptObjectList\n",
      "__root__\n",
      "  PromptObjectList expected dict not list (type=type_error)\n"
     ]
    }
   ],
   "source": [
    "# Invoke the chain and print raw output\n",
    "try:\n",
    "    raw_output = chain.invoke({\"topic\": topic, \"sub_topic\": sub_topic})\n",
    "    print(\"Raw Output:\", raw_output)\n",
    "\n",
    "    # Store result in a variable\n",
    "    result = chain.invoke({\"topic\": topic, \"sub_topic\": sub_topic})\n",
    "    print(\"Parsed Result:\", result)\n",
    "except Exception as e:\n",
    "    print(\"Error:\", e)"
   ]
  },
  {
   "cell_type": "markdown",
   "metadata": {},
   "source": [
    "#### 6 - Creating the dataset"
   ]
  },
  {
   "cell_type": "code",
   "execution_count": 25,
   "metadata": {},
   "outputs": [
    {
     "name": "stdout",
     "output_type": "stream",
     "text": [
      "Generating prompts for Communication - Chatbots and Virtual Assistants\n"
     ]
    },
    {
     "name": "stderr",
     "output_type": "stream",
     "text": [
      "C:\\Users\\win 11\\AppData\\Local\\Temp\\ipykernel_14676\\528926072.py:33: FutureWarning: The frame.append method is deprecated and will be removed from pandas in a future version. Use pandas.concat instead.\n",
      "  df = df.append(data, ignore_index=True)\n"
     ]
    },
    {
     "name": "stdout",
     "output_type": "stream",
     "text": [
      "Generating prompts for Communication - Conversation\n"
     ]
    },
    {
     "name": "stderr",
     "output_type": "stream",
     "text": [
      "C:\\Users\\win 11\\AppData\\Local\\Temp\\ipykernel_14676\\528926072.py:33: FutureWarning: The frame.append method is deprecated and will be removed from pandas in a future version. Use pandas.concat instead.\n",
      "  df = df.append(data, ignore_index=True)\n"
     ]
    },
    {
     "name": "stdout",
     "output_type": "stream",
     "text": [
      "Generating prompts for Communication - Mental Health\n"
     ]
    },
    {
     "name": "stderr",
     "output_type": "stream",
     "text": [
      "C:\\Users\\win 11\\AppData\\Local\\Temp\\ipykernel_14676\\528926072.py:33: FutureWarning: The frame.append method is deprecated and will be removed from pandas in a future version. Use pandas.concat instead.\n",
      "  df = df.append(data, ignore_index=True)\n"
     ]
    },
    {
     "name": "stdout",
     "output_type": "stream",
     "text": [
      "Generating prompts for Music and Audio - Music Creation\n"
     ]
    },
    {
     "name": "stderr",
     "output_type": "stream",
     "text": [
      "C:\\Users\\win 11\\AppData\\Local\\Temp\\ipykernel_14676\\528926072.py:33: FutureWarning: The frame.append method is deprecated and will be removed from pandas in a future version. Use pandas.concat instead.\n",
      "  df = df.append(data, ignore_index=True)\n"
     ]
    },
    {
     "name": "stdout",
     "output_type": "stream",
     "text": [
      "Generating prompts for Music and Audio - Speech Generation\n"
     ]
    },
    {
     "name": "stderr",
     "output_type": "stream",
     "text": [
      "C:\\Users\\win 11\\AppData\\Local\\Temp\\ipykernel_14676\\528926072.py:33: FutureWarning: The frame.append method is deprecated and will be removed from pandas in a future version. Use pandas.concat instead.\n",
      "  df = df.append(data, ignore_index=True)\n"
     ]
    },
    {
     "name": "stdout",
     "output_type": "stream",
     "text": [
      "Generating prompts for Music and Audio - Podcast Content Creation\n"
     ]
    },
    {
     "name": "stderr",
     "output_type": "stream",
     "text": [
      "C:\\Users\\win 11\\AppData\\Local\\Temp\\ipykernel_14676\\528926072.py:33: FutureWarning: The frame.append method is deprecated and will be removed from pandas in a future version. Use pandas.concat instead.\n",
      "  df = df.append(data, ignore_index=True)\n"
     ]
    },
    {
     "name": "stdout",
     "output_type": "stream",
     "text": [
      "Generating prompts for Programming and Development - Coding and Programming Assistance\n"
     ]
    },
    {
     "name": "stderr",
     "output_type": "stream",
     "text": [
      "C:\\Users\\win 11\\AppData\\Local\\Temp\\ipykernel_14676\\528926072.py:33: FutureWarning: The frame.append method is deprecated and will be removed from pandas in a future version. Use pandas.concat instead.\n",
      "  df = df.append(data, ignore_index=True)\n"
     ]
    },
    {
     "name": "stdout",
     "output_type": "stream",
     "text": [
      "Generating prompts for Programming and Development - APi Integration\n"
     ]
    },
    {
     "name": "stderr",
     "output_type": "stream",
     "text": [
      "C:\\Users\\win 11\\AppData\\Local\\Temp\\ipykernel_14676\\528926072.py:33: FutureWarning: The frame.append method is deprecated and will be removed from pandas in a future version. Use pandas.concat instead.\n",
      "  df = df.append(data, ignore_index=True)\n"
     ]
    },
    {
     "name": "stdout",
     "output_type": "stream",
     "text": [
      "Generating prompts for Business and Productivity - Presentation Creation\n"
     ]
    },
    {
     "name": "stderr",
     "output_type": "stream",
     "text": [
      "C:\\Users\\win 11\\AppData\\Local\\Temp\\ipykernel_14676\\528926072.py:33: FutureWarning: The frame.append method is deprecated and will be removed from pandas in a future version. Use pandas.concat instead.\n",
      "  df = df.append(data, ignore_index=True)\n"
     ]
    },
    {
     "name": "stdout",
     "output_type": "stream",
     "text": [
      "Generating prompts for Business and Productivity - Email Generation\n"
     ]
    },
    {
     "name": "stderr",
     "output_type": "stream",
     "text": [
      "C:\\Users\\win 11\\AppData\\Local\\Temp\\ipykernel_14676\\528926072.py:33: FutureWarning: The frame.append method is deprecated and will be removed from pandas in a future version. Use pandas.concat instead.\n",
      "  df = df.append(data, ignore_index=True)\n"
     ]
    }
   ],
   "source": [
    "clusters = [\n",
    "    \"Communication\",\n",
    "    \"Music and Audio\",\n",
    "    \"Programming and Development\",\n",
    "    \"Business and Productivity\",\n",
    "]\n",
    "\n",
    "sub_classifications = [\n",
    "    [\"Chatbots and Virtual Assistants\", \"Conversation\", \"Mental Health\"],\n",
    "    [\"Music Creation\", \"Speech Generation\", \"Podcast Content Creation\"],\n",
    "    [\"Coding and Programming Assistance\", \"APi Integration\"],\n",
    "    [\"Presentation Creation\", \"Email Generation\"],\n",
    "]\n",
    "\n",
    "df = pd.DataFrame(columns=[\"prompt\", \"cluster\", \"sub_class\"])\n",
    "\n",
    "for cluster_index in range(len(clusters)):\n",
    "    cluster = clusters[cluster_index]\n",
    "    sub_classes = sub_classifications[cluster_index]\n",
    "    for sub_class in sub_classes:\n",
    "        print(f\"Generating prompts for {cluster} - {sub_class}\")\n",
    "        try:\n",
    "            prompts = chain.invoke({\"topic\": cluster, \"sub_topic\": sub_class})\n",
    "            data = [\n",
    "                {\n",
    "                    \"prompt\": prompt.prompt,\n",
    "                    \"cluster\": prompt.cluster,\n",
    "                    \"sub_class\": prompt.sub_classification,\n",
    "                }\n",
    "                for prompt in prompts.prompt_objects\n",
    "            ]\n",
    "\n",
    "            df = df.append(data, ignore_index=True)\n",
    "\n",
    "        except Exception as e:\n",
    "            print(\"Error:\", e)"
   ]
  },
  {
   "cell_type": "markdown",
   "metadata": {},
   "source": [
    "#### 7 - Save the data to a CSV file"
   ]
  },
  {
   "cell_type": "code",
   "execution_count": 26,
   "metadata": {},
   "outputs": [
    {
     "data": {
      "text/html": [
       "<div>\n",
       "<style scoped>\n",
       "    .dataframe tbody tr th:only-of-type {\n",
       "        vertical-align: middle;\n",
       "    }\n",
       "\n",
       "    .dataframe tbody tr th {\n",
       "        vertical-align: top;\n",
       "    }\n",
       "\n",
       "    .dataframe thead th {\n",
       "        text-align: right;\n",
       "    }\n",
       "</style>\n",
       "<table border=\"1\" class=\"dataframe\">\n",
       "  <thead>\n",
       "    <tr style=\"text-align: right;\">\n",
       "      <th></th>\n",
       "      <th>prompt</th>\n",
       "      <th>cluster</th>\n",
       "      <th>sub_class</th>\n",
       "    </tr>\n",
       "  </thead>\n",
       "  <tbody>\n",
       "    <tr>\n",
       "      <th>0</th>\n",
       "      <td>How can I integrate a chatbot into my e-commer...</td>\n",
       "      <td>Communication</td>\n",
       "      <td>Chatbots and Virtual Assistants</td>\n",
       "    </tr>\n",
       "    <tr>\n",
       "      <th>1</th>\n",
       "      <td>What are the best practices for designing a vi...</td>\n",
       "      <td>Communication</td>\n",
       "      <td>Chatbots and Virtual Assistants</td>\n",
       "    </tr>\n",
       "    <tr>\n",
       "      <th>2</th>\n",
       "      <td>Can chatbots handle complex customer queries, ...</td>\n",
       "      <td>Communication</td>\n",
       "      <td>Chatbots and Virtual Assistants</td>\n",
       "    </tr>\n",
       "    <tr>\n",
       "      <th>3</th>\n",
       "      <td>What technologies are commonly used to develop...</td>\n",
       "      <td>Communication</td>\n",
       "      <td>Chatbots and Virtual Assistants</td>\n",
       "    </tr>\n",
       "    <tr>\n",
       "      <th>4</th>\n",
       "      <td>How do I train a chatbot to understand differe...</td>\n",
       "      <td>Communication</td>\n",
       "      <td>Chatbots and Virtual Assistants</td>\n",
       "    </tr>\n",
       "    <tr>\n",
       "      <th>...</th>\n",
       "      <td>...</td>\n",
       "      <td>...</td>\n",
       "      <td>...</td>\n",
       "    </tr>\n",
       "    <tr>\n",
       "      <th>144</th>\n",
       "      <td>Write an email to confirm a meeting time with ...</td>\n",
       "      <td>Business and Productivity</td>\n",
       "      <td>Email Generation</td>\n",
       "    </tr>\n",
       "    <tr>\n",
       "      <th>145</th>\n",
       "      <td>Generate an email to announce the launch of ou...</td>\n",
       "      <td>Business and Productivity</td>\n",
       "      <td>Email Generation</td>\n",
       "    </tr>\n",
       "    <tr>\n",
       "      <th>146</th>\n",
       "      <td>Compose an email to request a budget increase ...</td>\n",
       "      <td>Business and Productivity</td>\n",
       "      <td>Email Generation</td>\n",
       "    </tr>\n",
       "    <tr>\n",
       "      <th>147</th>\n",
       "      <td>Draft an email to remind employees about the u...</td>\n",
       "      <td>Business and Productivity</td>\n",
       "      <td>Email Generation</td>\n",
       "    </tr>\n",
       "    <tr>\n",
       "      <th>148</th>\n",
       "      <td>Write an email to clarify the roles and respon...</td>\n",
       "      <td>Business and Productivity</td>\n",
       "      <td>Email Generation</td>\n",
       "    </tr>\n",
       "  </tbody>\n",
       "</table>\n",
       "<p>149 rows × 3 columns</p>\n",
       "</div>"
      ],
      "text/plain": [
       "                                                prompt  \\\n",
       "0    How can I integrate a chatbot into my e-commer...   \n",
       "1    What are the best practices for designing a vi...   \n",
       "2    Can chatbots handle complex customer queries, ...   \n",
       "3    What technologies are commonly used to develop...   \n",
       "4    How do I train a chatbot to understand differe...   \n",
       "..                                                 ...   \n",
       "144  Write an email to confirm a meeting time with ...   \n",
       "145  Generate an email to announce the launch of ou...   \n",
       "146  Compose an email to request a budget increase ...   \n",
       "147  Draft an email to remind employees about the u...   \n",
       "148  Write an email to clarify the roles and respon...   \n",
       "\n",
       "                       cluster                        sub_class  \n",
       "0                Communication  Chatbots and Virtual Assistants  \n",
       "1                Communication  Chatbots and Virtual Assistants  \n",
       "2                Communication  Chatbots and Virtual Assistants  \n",
       "3                Communication  Chatbots and Virtual Assistants  \n",
       "4                Communication  Chatbots and Virtual Assistants  \n",
       "..                         ...                              ...  \n",
       "144  Business and Productivity                 Email Generation  \n",
       "145  Business and Productivity                 Email Generation  \n",
       "146  Business and Productivity                 Email Generation  \n",
       "147  Business and Productivity                 Email Generation  \n",
       "148  Business and Productivity                 Email Generation  \n",
       "\n",
       "[149 rows x 3 columns]"
      ]
     },
     "execution_count": 26,
     "metadata": {},
     "output_type": "execute_result"
    }
   ],
   "source": [
    "df"
   ]
  },
  {
   "cell_type": "code",
   "execution_count": 27,
   "metadata": {},
   "outputs": [],
   "source": [
    "df.to_csv(\"../data/prompts_v0.csv\", index=False)"
   ]
  },
  {
   "cell_type": "markdown",
   "metadata": {},
   "source": [
    "#### 8 - Enhancing the prompts"
   ]
  },
  {
   "cell_type": "code",
   "execution_count": 5,
   "metadata": {},
   "outputs": [],
   "source": [
    "template = \"\"\"\n",
    "Generate a total of 30 prompts after considering the following information:\n",
    "\n",
    "Prompt topic: {topic}\n",
    "Prompt sub-topic: {sub_topic}\n",
    "\n",
    "Each prompt should be unique and should be related to the topic and sub-topic provided. The prompt should be realistic and should resemble an actual user's prompt.\n",
    "Do not use any other topic or sub-topic other than the ones provided.\n",
    "\n",
    "Make sure you generate 30 different prompts and that none of them are identical. Keep each promtps diverse and try to cover a range of words. \n",
    "Please follow the instructions given below on how the output should be structured:\n",
    "\n",
    "{format_instructions}\n",
    "\n",
    "\"\"\"\n",
    "\n",
    "prompt_template = PromptTemplate(\n",
    "    input_variables=[\"topic\", \"sub_topic\"],\n",
    "    template=template,\n",
    "    partial_variables={\"format_instructions\": parser.get_format_instructions()},\n",
    ")"
   ]
  },
  {
   "cell_type": "code",
   "execution_count": 7,
   "metadata": {},
   "outputs": [
    {
     "name": "stdout",
     "output_type": "stream",
     "text": [
      "Generating prompts for Communication - Chatbots and Virtual Assistants\n"
     ]
    },
    {
     "name": "stderr",
     "output_type": "stream",
     "text": [
      "C:\\Users\\win 11\\AppData\\Local\\Temp\\ipykernel_7616\\528926072.py:33: FutureWarning: The frame.append method is deprecated and will be removed from pandas in a future version. Use pandas.concat instead.\n",
      "  df = df.append(data, ignore_index=True)\n"
     ]
    },
    {
     "name": "stdout",
     "output_type": "stream",
     "text": [
      "Generating prompts for Communication - Conversation\n"
     ]
    },
    {
     "name": "stderr",
     "output_type": "stream",
     "text": [
      "C:\\Users\\win 11\\AppData\\Local\\Temp\\ipykernel_7616\\528926072.py:33: FutureWarning: The frame.append method is deprecated and will be removed from pandas in a future version. Use pandas.concat instead.\n",
      "  df = df.append(data, ignore_index=True)\n"
     ]
    },
    {
     "name": "stdout",
     "output_type": "stream",
     "text": [
      "Generating prompts for Communication - Mental Health\n"
     ]
    },
    {
     "name": "stderr",
     "output_type": "stream",
     "text": [
      "C:\\Users\\win 11\\AppData\\Local\\Temp\\ipykernel_7616\\528926072.py:33: FutureWarning: The frame.append method is deprecated and will be removed from pandas in a future version. Use pandas.concat instead.\n",
      "  df = df.append(data, ignore_index=True)\n"
     ]
    },
    {
     "name": "stdout",
     "output_type": "stream",
     "text": [
      "Generating prompts for Music and Audio - Music Creation\n"
     ]
    },
    {
     "name": "stderr",
     "output_type": "stream",
     "text": [
      "C:\\Users\\win 11\\AppData\\Local\\Temp\\ipykernel_7616\\528926072.py:33: FutureWarning: The frame.append method is deprecated and will be removed from pandas in a future version. Use pandas.concat instead.\n",
      "  df = df.append(data, ignore_index=True)\n"
     ]
    },
    {
     "name": "stdout",
     "output_type": "stream",
     "text": [
      "Generating prompts for Music and Audio - Speech Generation\n"
     ]
    },
    {
     "name": "stderr",
     "output_type": "stream",
     "text": [
      "C:\\Users\\win 11\\AppData\\Local\\Temp\\ipykernel_7616\\528926072.py:33: FutureWarning: The frame.append method is deprecated and will be removed from pandas in a future version. Use pandas.concat instead.\n",
      "  df = df.append(data, ignore_index=True)\n"
     ]
    },
    {
     "name": "stdout",
     "output_type": "stream",
     "text": [
      "Generating prompts for Music and Audio - Podcast Content Creation\n"
     ]
    },
    {
     "name": "stderr",
     "output_type": "stream",
     "text": [
      "C:\\Users\\win 11\\AppData\\Local\\Temp\\ipykernel_7616\\528926072.py:33: FutureWarning: The frame.append method is deprecated and will be removed from pandas in a future version. Use pandas.concat instead.\n",
      "  df = df.append(data, ignore_index=True)\n"
     ]
    },
    {
     "name": "stdout",
     "output_type": "stream",
     "text": [
      "Generating prompts for Programming and Development - Coding and Programming Assistance\n"
     ]
    },
    {
     "name": "stderr",
     "output_type": "stream",
     "text": [
      "C:\\Users\\win 11\\AppData\\Local\\Temp\\ipykernel_7616\\528926072.py:33: FutureWarning: The frame.append method is deprecated and will be removed from pandas in a future version. Use pandas.concat instead.\n",
      "  df = df.append(data, ignore_index=True)\n"
     ]
    },
    {
     "name": "stdout",
     "output_type": "stream",
     "text": [
      "Generating prompts for Programming and Development - APi Integration\n"
     ]
    },
    {
     "name": "stderr",
     "output_type": "stream",
     "text": [
      "C:\\Users\\win 11\\AppData\\Local\\Temp\\ipykernel_7616\\528926072.py:33: FutureWarning: The frame.append method is deprecated and will be removed from pandas in a future version. Use pandas.concat instead.\n",
      "  df = df.append(data, ignore_index=True)\n"
     ]
    },
    {
     "name": "stdout",
     "output_type": "stream",
     "text": [
      "Generating prompts for Business and Productivity - Presentation Creation\n"
     ]
    },
    {
     "name": "stderr",
     "output_type": "stream",
     "text": [
      "C:\\Users\\win 11\\AppData\\Local\\Temp\\ipykernel_7616\\528926072.py:33: FutureWarning: The frame.append method is deprecated and will be removed from pandas in a future version. Use pandas.concat instead.\n",
      "  df = df.append(data, ignore_index=True)\n"
     ]
    },
    {
     "name": "stdout",
     "output_type": "stream",
     "text": [
      "Generating prompts for Business and Productivity - Email Generation\n"
     ]
    },
    {
     "name": "stderr",
     "output_type": "stream",
     "text": [
      "C:\\Users\\win 11\\AppData\\Local\\Temp\\ipykernel_7616\\528926072.py:33: FutureWarning: The frame.append method is deprecated and will be removed from pandas in a future version. Use pandas.concat instead.\n",
      "  df = df.append(data, ignore_index=True)\n"
     ]
    }
   ],
   "source": [
    "clusters = [\n",
    "    \"Communication\",\n",
    "    \"Music and Audio\",\n",
    "    \"Programming and Development\",\n",
    "    \"Business and Productivity\",\n",
    "]\n",
    "\n",
    "sub_classifications = [\n",
    "    [\"Chatbots and Virtual Assistants\", \"Conversation\", \"Mental Health\"],\n",
    "    [\"Music Creation\", \"Speech Generation\", \"Podcast Content Creation\"],\n",
    "    [\"Coding and Programming Assistance\", \"APi Integration\"],\n",
    "    [\"Presentation Creation\", \"Email Generation\"],\n",
    "]\n",
    "\n",
    "df = pd.DataFrame(columns=[\"prompt\", \"cluster\", \"sub_class\"])\n",
    "\n",
    "for cluster_index in range(len(clusters)):\n",
    "    cluster = clusters[cluster_index]\n",
    "    sub_classes = sub_classifications[cluster_index]\n",
    "    for sub_class in sub_classes:\n",
    "        print(f\"Generating prompts for {cluster} - {sub_class}\")\n",
    "        try:\n",
    "            prompts = chain.invoke({\"topic\": cluster, \"sub_topic\": sub_class})\n",
    "            data = [\n",
    "                {\n",
    "                    \"prompt\": prompt.prompt,\n",
    "                    \"cluster\": prompt.cluster,\n",
    "                    \"sub_class\": prompt.sub_classification,\n",
    "                }\n",
    "                for prompt in prompts.prompt_objects\n",
    "            ]\n",
    "\n",
    "            df = df.append(data, ignore_index=True)\n",
    "\n",
    "        except Exception as e:\n",
    "            print(\"Error:\", e)"
   ]
  },
  {
   "cell_type": "code",
   "execution_count": 8,
   "metadata": {},
   "outputs": [
    {
     "data": {
      "text/html": [
       "<div>\n",
       "<style scoped>\n",
       "    .dataframe tbody tr th:only-of-type {\n",
       "        vertical-align: middle;\n",
       "    }\n",
       "\n",
       "    .dataframe tbody tr th {\n",
       "        vertical-align: top;\n",
       "    }\n",
       "\n",
       "    .dataframe thead th {\n",
       "        text-align: right;\n",
       "    }\n",
       "</style>\n",
       "<table border=\"1\" class=\"dataframe\">\n",
       "  <thead>\n",
       "    <tr style=\"text-align: right;\">\n",
       "      <th></th>\n",
       "      <th>prompt</th>\n",
       "      <th>cluster</th>\n",
       "      <th>sub_class</th>\n",
       "    </tr>\n",
       "  </thead>\n",
       "  <tbody>\n",
       "    <tr>\n",
       "      <th>0</th>\n",
       "      <td>How can I integrate a chatbot into my website ...</td>\n",
       "      <td>Chatbots and Virtual Assistants</td>\n",
       "      <td>Integration</td>\n",
       "    </tr>\n",
       "    <tr>\n",
       "      <th>1</th>\n",
       "      <td>What are the best practices for designing a co...</td>\n",
       "      <td>Chatbots and Virtual Assistants</td>\n",
       "      <td>Design</td>\n",
       "    </tr>\n",
       "    <tr>\n",
       "      <th>2</th>\n",
       "      <td>Can chatbots handle complex queries, or are th...</td>\n",
       "      <td>Chatbots and Virtual Assistants</td>\n",
       "      <td>Capabilities</td>\n",
       "    </tr>\n",
       "    <tr>\n",
       "      <th>3</th>\n",
       "      <td>What platforms are available for building cust...</td>\n",
       "      <td>Chatbots and Virtual Assistants</td>\n",
       "      <td>Development</td>\n",
       "    </tr>\n",
       "    <tr>\n",
       "      <th>4</th>\n",
       "      <td>How do I ensure my chatbot understands user in...</td>\n",
       "      <td>Chatbots and Virtual Assistants</td>\n",
       "      <td>Understanding</td>\n",
       "    </tr>\n",
       "    <tr>\n",
       "      <th>...</th>\n",
       "      <td>...</td>\n",
       "      <td>...</td>\n",
       "      <td>...</td>\n",
       "    </tr>\n",
       "    <tr>\n",
       "      <th>311</th>\n",
       "      <td>Draft an email to promote an upcoming sale to ...</td>\n",
       "      <td>Business and Productivity</td>\n",
       "      <td>Email Generation</td>\n",
       "    </tr>\n",
       "    <tr>\n",
       "      <th>312</th>\n",
       "      <td>Write an email to request a meeting with a pot...</td>\n",
       "      <td>Business and Productivity</td>\n",
       "      <td>Email Generation</td>\n",
       "    </tr>\n",
       "    <tr>\n",
       "      <th>313</th>\n",
       "      <td>Compose an email to express appreciation to a ...</td>\n",
       "      <td>Business and Productivity</td>\n",
       "      <td>Email Generation</td>\n",
       "    </tr>\n",
       "    <tr>\n",
       "      <th>314</th>\n",
       "      <td>Generate an email to solicit feedback from emp...</td>\n",
       "      <td>Business and Productivity</td>\n",
       "      <td>Email Generation</td>\n",
       "    </tr>\n",
       "    <tr>\n",
       "      <th>315</th>\n",
       "      <td>Draft an email to inform clients about a tempo...</td>\n",
       "      <td>Business and Productivity</td>\n",
       "      <td>Email Generation</td>\n",
       "    </tr>\n",
       "  </tbody>\n",
       "</table>\n",
       "<p>316 rows × 3 columns</p>\n",
       "</div>"
      ],
      "text/plain": [
       "                                                prompt  \\\n",
       "0    How can I integrate a chatbot into my website ...   \n",
       "1    What are the best practices for designing a co...   \n",
       "2    Can chatbots handle complex queries, or are th...   \n",
       "3    What platforms are available for building cust...   \n",
       "4    How do I ensure my chatbot understands user in...   \n",
       "..                                                 ...   \n",
       "311  Draft an email to promote an upcoming sale to ...   \n",
       "312  Write an email to request a meeting with a pot...   \n",
       "313  Compose an email to express appreciation to a ...   \n",
       "314  Generate an email to solicit feedback from emp...   \n",
       "315  Draft an email to inform clients about a tempo...   \n",
       "\n",
       "                             cluster         sub_class  \n",
       "0    Chatbots and Virtual Assistants       Integration  \n",
       "1    Chatbots and Virtual Assistants            Design  \n",
       "2    Chatbots and Virtual Assistants      Capabilities  \n",
       "3    Chatbots and Virtual Assistants       Development  \n",
       "4    Chatbots and Virtual Assistants     Understanding  \n",
       "..                               ...               ...  \n",
       "311        Business and Productivity  Email Generation  \n",
       "312        Business and Productivity  Email Generation  \n",
       "313        Business and Productivity  Email Generation  \n",
       "314        Business and Productivity  Email Generation  \n",
       "315        Business and Productivity  Email Generation  \n",
       "\n",
       "[316 rows x 3 columns]"
      ]
     },
     "execution_count": 8,
     "metadata": {},
     "output_type": "execute_result"
    }
   ],
   "source": [
    "df"
   ]
  },
  {
   "cell_type": "code",
   "execution_count": 10,
   "metadata": {},
   "outputs": [],
   "source": [
    "df.to_csv(\"../data/raw/prompts_v1.csv\", index=False)"
   ]
  }
 ],
 "metadata": {
  "kernelspec": {
   "display_name": "llm-data-analyst",
   "language": "python",
   "name": "python3"
  },
  "language_info": {
   "codemirror_mode": {
    "name": "ipython",
    "version": 3
   },
   "file_extension": ".py",
   "mimetype": "text/x-python",
   "name": "python",
   "nbconvert_exporter": "python",
   "pygments_lexer": "ipython3",
   "version": "3.10.14"
  }
 },
 "nbformat": 4,
 "nbformat_minor": 2
}
