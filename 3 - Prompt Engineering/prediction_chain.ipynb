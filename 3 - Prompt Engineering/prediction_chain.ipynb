{
 "cells": [
  {
   "cell_type": "code",
   "execution_count": 1,
   "metadata": {},
   "outputs": [],
   "source": [
    "from langchain_core.prompts import PromptTemplate\n",
    "from langchain_openai import OpenAI, ChatOpenAI"
   ]
  },
  {
   "cell_type": "markdown",
   "metadata": {},
   "source": [
    "### 1 - Loading the LLM"
   ]
  },
  {
   "cell_type": "code",
   "execution_count": 2,
   "metadata": {},
   "outputs": [],
   "source": [
    "llm = ChatOpenAI(model=\"gpt-4o-mini\", temperature=0)"
   ]
  },
  {
   "cell_type": "markdown",
   "metadata": {},
   "source": [
    "### 2 - Defining the output parsers"
   ]
  },
  {
   "cell_type": "markdown",
   "metadata": {},
   "source": [
    "#### Cluster"
   ]
  },
  {
   "cell_type": "code",
   "execution_count": 3,
   "metadata": {},
   "outputs": [],
   "source": [
    "from langchain.output_parsers import ResponseSchema, StructuredOutputParser\n",
    "\n",
    "cluster_response_schemas = [\n",
    "    ResponseSchema(name=\"prompt\", description=\"prompt given by the user\"),\n",
    "    ResponseSchema(\n",
    "        name=\"cluster\",\n",
    "        description=\"cluster in which the prompt is classified\",\n",
    "    ),\n",
    "]\n",
    "cluster_output_parser = StructuredOutputParser.from_response_schemas(\n",
    "    cluster_response_schemas\n",
    ")\n",
    "cluster_format_instructions = cluster_output_parser.get_format_instructions()"
   ]
  },
  {
   "cell_type": "markdown",
   "metadata": {},
   "source": [
    "#### Sub Class"
   ]
  },
  {
   "cell_type": "code",
   "execution_count": 4,
   "metadata": {},
   "outputs": [],
   "source": [
    "subclass_response_schemas = [\n",
    "    ResponseSchema(name=\"prompt\", description=\"prompt given by the user\"),\n",
    "    ResponseSchema(\n",
    "        name=\"cluster\",\n",
    "        description=\"Category in which the prompt is classified\",\n",
    "    ),\n",
    "    ResponseSchema(\n",
    "        name=\"Sub Class\",\n",
    "        description=\"Sub category in which the prompt is classified into\",\n",
    "    ),\n",
    "]\n",
    "subclass_output_parser = StructuredOutputParser.from_response_schemas(\n",
    "    subclass_response_schemas\n",
    ")\n",
    "subclass_format_instructions = subclass_output_parser.get_format_instructions()"
   ]
  },
  {
   "cell_type": "markdown",
   "metadata": {},
   "source": [
    "### 3 - Initializing the Chains"
   ]
  },
  {
   "cell_type": "code",
   "execution_count": 5,
   "metadata": {},
   "outputs": [],
   "source": [
    "from prompt_templates import (\n",
    "    cluster_prompt_template,\n",
    "    communication_prompt_template,\n",
    "    music_prompt_template,\n",
    "    programming_prompt_template,\n",
    "    business_prompt_template,\n",
    ")"
   ]
  },
  {
   "cell_type": "code",
   "execution_count": 6,
   "metadata": {},
   "outputs": [],
   "source": [
    "cluster_prompt = PromptTemplate(\n",
    "    template=cluster_prompt_template,\n",
    "    input_variables=[\"user_prompt\"],\n",
    "    partial_variables={\"format_instructions\": cluster_format_instructions},\n",
    ")\n",
    "\n",
    "cluster_chain = cluster_prompt | llm | cluster_output_parser"
   ]
  },
  {
   "cell_type": "code",
   "execution_count": 7,
   "metadata": {},
   "outputs": [],
   "source": [
    "prompt_templates = [\n",
    "    communication_prompt_template,\n",
    "    music_prompt_template,\n",
    "    programming_prompt_template,\n",
    "    business_prompt_template,\n",
    "]\n",
    "categories = [\n",
    "    \"Communication\",\n",
    "    \"Music and Audio\",\n",
    "    \"Programming and Development\",\n",
    "    \"Business and Productivity\",\n",
    "]\n",
    "\n",
    "subclass_chains = {}\n",
    "\n",
    "for i, prompt_template in enumerate(prompt_templates):\n",
    "\n",
    "    subclass_prompt = PromptTemplate(\n",
    "        template=prompt_template,\n",
    "        input_variables=[\"user_prompt\"],\n",
    "        partial_variables={\"format_instructions\": subclass_format_instructions},\n",
    "    )\n",
    "    chain = subclass_prompt | llm | subclass_output_parser\n",
    "    subclass_chains[f\"{categories[i]}\"] = chain"
   ]
  },
  {
   "cell_type": "code",
   "execution_count": 8,
   "metadata": {},
   "outputs": [
    {
     "data": {
      "text/plain": [
       "dict_keys(['Communication', 'Music and Audio', 'Programming and Development', 'Business and Productivity'])"
      ]
     },
     "execution_count": 8,
     "metadata": {},
     "output_type": "execute_result"
    }
   ],
   "source": [
    "subclass_chains.keys()"
   ]
  },
  {
   "cell_type": "code",
   "execution_count": 9,
   "metadata": {},
   "outputs": [
    {
     "data": {
      "text/plain": [
       "PromptTemplate(input_variables=['user_prompt'], partial_variables={'format_instructions': 'The output should be a markdown code snippet formatted in the following schema, including the leading and trailing \"```json\" and \"```\":\\n\\n```json\\n{\\n\\t\"prompt\": string  // prompt given by the user\\n\\t\"cluster\": string  // Category in which the prompt is classified\\n\\t\"Sub Class\": string  // Sub category in which the prompt is classified into\\n}\\n```'}, template='You are a helpful and accurate AI assistant specializing in business and productivity tasks.\\n\\nHere are the sub-categories within Business and Productivity:\\n- Presentation Creation\\n- Email Generation\\n\\nYou will be provided with a user request related to Business and Productivity. Your task is to determine the most specific sub-category that applies to the request. \\nDo not use any other sub-categories. If the user request does not match with any of the sub categories, classify it as \"General Model\".\\n\\nExamples:\\nPresentation Creation:\\n- What role does body language play in delivering an effective business presentation?\\n- How can I ensure my presentation stays within the allotted time while covering all key points?\\n- What are some innovative presentation formats that can captivate an audience?\\n- How can I effectively summarize complex information in my presentation?\\n\\nEmail Generation:\\n- Draft an email to clarify a misunderstanding with a client regarding their order.\\n- Write an email to request a meeting with a vendor to discuss pricing options.\\n- Generate an email to confirm attendance at an upcoming industry conference.\\n- Create a follow-up email for a proposal sent to a prospective client.\\n\\nReturn your answer in the following format:\\n{format_instructions}\\n\\nNote that the cluster here is \"Business and Productivity\"\\n\\nThe user request is as follows:\\n{user_prompt}\\n')\n",
       "| ChatOpenAI(client=<openai.resources.chat.completions.Completions object at 0x000001EA5CC1E080>, async_client=<openai.resources.chat.completions.AsyncCompletions object at 0x000001EA5CC1F790>, model_name='gpt-4o-mini', temperature=0.0, openai_api_key=SecretStr('**********'), openai_proxy='')\n",
       "| StructuredOutputParser(response_schemas=[ResponseSchema(name='prompt', description='prompt given by the user', type='string'), ResponseSchema(name='cluster', description='Category in which the prompt is classified', type='string'), ResponseSchema(name='Sub Class', description='Sub category in which the prompt is classified into', type='string')])"
      ]
     },
     "execution_count": 9,
     "metadata": {},
     "output_type": "execute_result"
    }
   ],
   "source": [
    "subclass_chains[\"Business and Productivity\"]"
   ]
  },
  {
   "cell_type": "markdown",
   "metadata": {},
   "source": [
    "### 4 - Evaluating chains"
   ]
  },
  {
   "cell_type": "code",
   "execution_count": 10,
   "metadata": {},
   "outputs": [],
   "source": [
    "prompt = \"How to cook pasta?\"\n",
    "cluster_result = cluster_chain.invoke({\"user_prompt\": prompt})"
   ]
  },
  {
   "cell_type": "code",
   "execution_count": 11,
   "metadata": {},
   "outputs": [
    {
     "data": {
      "text/plain": [
       "{'prompt': 'How to cook pasta?', 'cluster': 'General Model'}"
      ]
     },
     "execution_count": 11,
     "metadata": {},
     "output_type": "execute_result"
    }
   ],
   "source": [
    "cluster_result"
   ]
  },
  {
   "cell_type": "code",
   "execution_count": 12,
   "metadata": {},
   "outputs": [
    {
     "data": {
      "text/plain": [
       "{'prompt': 'How to cook pasta?',\n",
       " 'cluster': 'Business and Productivity',\n",
       " 'Sub Class': 'General Model'}"
      ]
     },
     "execution_count": 12,
     "metadata": {},
     "output_type": "execute_result"
    }
   ],
   "source": [
    "subclass_result = subclass_chains[\"Business and Productivity\"].invoke(\n",
    "    {\"user_prompt\": prompt}\n",
    ")\n",
    "subclass_result"
   ]
  },
  {
   "cell_type": "markdown",
   "metadata": {},
   "source": [
    "### 5 - Classfication Pipeline"
   ]
  },
  {
   "cell_type": "code",
   "execution_count": 18,
   "metadata": {},
   "outputs": [],
   "source": [
    "def classify_request(user_prompt):\n",
    "\n",
    "    cluster_result = cluster_chain.invoke({\"user_prompt\": user_prompt})\n",
    "    cluster = cluster_result[\"cluster\"]\n",
    "    if cluster != \"General Model\":\n",
    "        sub_classification_result = subclass_chains[cluster].invoke(\n",
    "            {\"user_prompt\": user_prompt}\n",
    "        )\n",
    "        return sub_classification_result\n",
    "    else:\n",
    "        cluster_result[\"Sub Class\"] = \"N/A\"\n",
    "        return cluster_result"
   ]
  },
  {
   "cell_type": "code",
   "execution_count": 19,
   "metadata": {},
   "outputs": [
    {
     "data": {
      "text/plain": [
       "{'prompt': 'How to write a mail to my manager',\n",
       " 'cluster': 'Business and Productivity',\n",
       " 'Sub Class': 'Email Generation'}"
      ]
     },
     "execution_count": 19,
     "metadata": {},
     "output_type": "execute_result"
    }
   ],
   "source": [
    "classify_request(\"How to write a mail to my manager\")"
   ]
  },
  {
   "cell_type": "code",
   "execution_count": 20,
   "metadata": {},
   "outputs": [
    {
     "data": {
      "text/plain": [
       "{'prompt': 'How to handle depression?',\n",
       " 'cluster': 'General Model',\n",
       " 'Sub Class': 'N/A'}"
      ]
     },
     "execution_count": 20,
     "metadata": {},
     "output_type": "execute_result"
    }
   ],
   "source": [
    "classify_request(\"How to handle depression?\")"
   ]
  },
  {
   "cell_type": "markdown",
   "metadata": {},
   "source": [
    "### 6 - Evaluation Metrics"
   ]
  },
  {
   "cell_type": "code",
   "execution_count": 24,
   "metadata": {},
   "outputs": [],
   "source": [
    "import pandas as pd\n",
    "\n",
    "df = pd.read_csv(\"../data/raw/prompts_v1.csv\")\n",
    "sampled_df = (\n",
    "    df.groupby([\"cluster\", \"sub_class\"])\n",
    "    .apply(lambda x: x.sample(min(3, len(x)), random_state=42))\n",
    "    .reset_index(drop=True)\n",
    ")"
   ]
  },
  {
   "cell_type": "code",
   "execution_count": 26,
   "metadata": {},
   "outputs": [
    {
     "data": {
      "text/html": [
       "<div>\n",
       "<style scoped>\n",
       "    .dataframe tbody tr th:only-of-type {\n",
       "        vertical-align: middle;\n",
       "    }\n",
       "\n",
       "    .dataframe tbody tr th {\n",
       "        vertical-align: top;\n",
       "    }\n",
       "\n",
       "    .dataframe thead th {\n",
       "        text-align: right;\n",
       "    }\n",
       "</style>\n",
       "<table border=\"1\" class=\"dataframe\">\n",
       "  <thead>\n",
       "    <tr style=\"text-align: right;\">\n",
       "      <th></th>\n",
       "      <th>prompt</th>\n",
       "      <th>cluster</th>\n",
       "      <th>sub_class</th>\n",
       "    </tr>\n",
       "  </thead>\n",
       "  <tbody>\n",
       "    <tr>\n",
       "      <th>0</th>\n",
       "      <td>Compose an email to express appreciation to a ...</td>\n",
       "      <td>Business and Productivity</td>\n",
       "      <td>Email Generation</td>\n",
       "    </tr>\n",
       "    <tr>\n",
       "      <th>1</th>\n",
       "      <td>Write an email to request a referral from a sa...</td>\n",
       "      <td>Business and Productivity</td>\n",
       "      <td>Email Generation</td>\n",
       "    </tr>\n",
       "    <tr>\n",
       "      <th>2</th>\n",
       "      <td>Write an email to remind clients about an upco...</td>\n",
       "      <td>Business and Productivity</td>\n",
       "      <td>Email Generation</td>\n",
       "    </tr>\n",
       "    <tr>\n",
       "      <th>3</th>\n",
       "      <td>What are some creative ways to present case st...</td>\n",
       "      <td>Business and Productivity</td>\n",
       "      <td>Presentation Creation</td>\n",
       "    </tr>\n",
       "    <tr>\n",
       "      <th>4</th>\n",
       "      <td>What are some innovative presentation formats ...</td>\n",
       "      <td>Business and Productivity</td>\n",
       "      <td>Presentation Creation</td>\n",
       "    </tr>\n",
       "    <tr>\n",
       "      <th>5</th>\n",
       "      <td>What strategies can I use to reduce anxiety be...</td>\n",
       "      <td>Business and Productivity</td>\n",
       "      <td>Presentation Creation</td>\n",
       "    </tr>\n",
       "    <tr>\n",
       "      <th>6</th>\n",
       "      <td>How do I create a personality for my chatbot?</td>\n",
       "      <td>Communication</td>\n",
       "      <td>Chatbots and Virtual Assistants</td>\n",
       "    </tr>\n",
       "    <tr>\n",
       "      <th>7</th>\n",
       "      <td>What are the differences between rule-based an...</td>\n",
       "      <td>Communication</td>\n",
       "      <td>Chatbots and Virtual Assistants</td>\n",
       "    </tr>\n",
       "    <tr>\n",
       "      <th>8</th>\n",
       "      <td>What should I include in a chatbot's FAQ section?</td>\n",
       "      <td>Communication</td>\n",
       "      <td>Chatbots and Virtual Assistants</td>\n",
       "    </tr>\n",
       "    <tr>\n",
       "      <th>9</th>\n",
       "      <td>What are some ways to build rapport quickly in...</td>\n",
       "      <td>Communication</td>\n",
       "      <td>Conversation</td>\n",
       "    </tr>\n",
       "    <tr>\n",
       "      <th>10</th>\n",
       "      <td>What are some tips for having a productive con...</td>\n",
       "      <td>Communication</td>\n",
       "      <td>Conversation</td>\n",
       "    </tr>\n",
       "    <tr>\n",
       "      <th>11</th>\n",
       "      <td>How can I effectively manage my emotions durin...</td>\n",
       "      <td>Communication</td>\n",
       "      <td>Conversation</td>\n",
       "    </tr>\n",
       "    <tr>\n",
       "      <th>12</th>\n",
       "      <td>What should I keep in mind when discussing my ...</td>\n",
       "      <td>Communication</td>\n",
       "      <td>Mental Health</td>\n",
       "    </tr>\n",
       "    <tr>\n",
       "      <th>13</th>\n",
       "      <td>What language should I use to talk about my me...</td>\n",
       "      <td>Communication</td>\n",
       "      <td>Mental Health</td>\n",
       "    </tr>\n",
       "    <tr>\n",
       "      <th>14</th>\n",
       "      <td>What are the best practices for discussing men...</td>\n",
       "      <td>Communication</td>\n",
       "      <td>Mental Health</td>\n",
       "    </tr>\n",
       "    <tr>\n",
       "      <th>15</th>\n",
       "      <td>What are some good practices for mastering a t...</td>\n",
       "      <td>Music and Audio</td>\n",
       "      <td>Music Creation</td>\n",
       "    </tr>\n",
       "    <tr>\n",
       "      <th>16</th>\n",
       "      <td>How can I effectively layer sounds to create d...</td>\n",
       "      <td>Music and Audio</td>\n",
       "      <td>Music Creation</td>\n",
       "    </tr>\n",
       "    <tr>\n",
       "      <th>17</th>\n",
       "      <td>Can you explain how to use reverb and delay in...</td>\n",
       "      <td>Music and Audio</td>\n",
       "      <td>Music Creation</td>\n",
       "    </tr>\n",
       "    <tr>\n",
       "      <th>18</th>\n",
       "      <td>What tools can I use for podcast editing and p...</td>\n",
       "      <td>Music and Audio</td>\n",
       "      <td>Podcast Content Creation</td>\n",
       "    </tr>\n",
       "    <tr>\n",
       "      <th>19</th>\n",
       "      <td>What are some creative ways to incorporate lis...</td>\n",
       "      <td>Music and Audio</td>\n",
       "      <td>Podcast Content Creation</td>\n",
       "    </tr>\n",
       "    <tr>\n",
       "      <th>20</th>\n",
       "      <td>How can I effectively transition between segme...</td>\n",
       "      <td>Music and Audio</td>\n",
       "      <td>Podcast Content Creation</td>\n",
       "    </tr>\n",
       "    <tr>\n",
       "      <th>21</th>\n",
       "      <td>Write a speech that highlights the role of act...</td>\n",
       "      <td>Music and Audio</td>\n",
       "      <td>Speech Generation</td>\n",
       "    </tr>\n",
       "    <tr>\n",
       "      <th>22</th>\n",
       "      <td>Can you create a speech that celebrates the ac...</td>\n",
       "      <td>Music and Audio</td>\n",
       "      <td>Speech Generation</td>\n",
       "    </tr>\n",
       "    <tr>\n",
       "      <th>23</th>\n",
       "      <td>Write a speech that explores the role of music...</td>\n",
       "      <td>Music and Audio</td>\n",
       "      <td>Speech Generation</td>\n",
       "    </tr>\n",
       "    <tr>\n",
       "      <th>24</th>\n",
       "      <td>What are the steps to create a custom API for ...</td>\n",
       "      <td>Programming and Development</td>\n",
       "      <td>API Integration</td>\n",
       "    </tr>\n",
       "    <tr>\n",
       "      <th>25</th>\n",
       "      <td>What are the steps to integrate a social media...</td>\n",
       "      <td>Programming and Development</td>\n",
       "      <td>API Integration</td>\n",
       "    </tr>\n",
       "    <tr>\n",
       "      <th>26</th>\n",
       "      <td>What is the purpose of API throttling and how ...</td>\n",
       "      <td>Programming and Development</td>\n",
       "      <td>API Integration</td>\n",
       "    </tr>\n",
       "    <tr>\n",
       "      <th>27</th>\n",
       "      <td>How can I implement pagination in a web applic...</td>\n",
       "      <td>Programming and Development</td>\n",
       "      <td>Coding and Programming Assistance</td>\n",
       "    </tr>\n",
       "    <tr>\n",
       "      <th>28</th>\n",
       "      <td>Can you explain the concept of closures in Jav...</td>\n",
       "      <td>Programming and Development</td>\n",
       "      <td>Coding and Programming Assistance</td>\n",
       "    </tr>\n",
       "    <tr>\n",
       "      <th>29</th>\n",
       "      <td>Can you provide tips for optimizing SQL queries?</td>\n",
       "      <td>Programming and Development</td>\n",
       "      <td>Coding and Programming Assistance</td>\n",
       "    </tr>\n",
       "  </tbody>\n",
       "</table>\n",
       "</div>"
      ],
      "text/plain": [
       "                                               prompt  \\\n",
       "0   Compose an email to express appreciation to a ...   \n",
       "1   Write an email to request a referral from a sa...   \n",
       "2   Write an email to remind clients about an upco...   \n",
       "3   What are some creative ways to present case st...   \n",
       "4   What are some innovative presentation formats ...   \n",
       "5   What strategies can I use to reduce anxiety be...   \n",
       "6       How do I create a personality for my chatbot?   \n",
       "7   What are the differences between rule-based an...   \n",
       "8   What should I include in a chatbot's FAQ section?   \n",
       "9   What are some ways to build rapport quickly in...   \n",
       "10  What are some tips for having a productive con...   \n",
       "11  How can I effectively manage my emotions durin...   \n",
       "12  What should I keep in mind when discussing my ...   \n",
       "13  What language should I use to talk about my me...   \n",
       "14  What are the best practices for discussing men...   \n",
       "15  What are some good practices for mastering a t...   \n",
       "16  How can I effectively layer sounds to create d...   \n",
       "17  Can you explain how to use reverb and delay in...   \n",
       "18  What tools can I use for podcast editing and p...   \n",
       "19  What are some creative ways to incorporate lis...   \n",
       "20  How can I effectively transition between segme...   \n",
       "21  Write a speech that highlights the role of act...   \n",
       "22  Can you create a speech that celebrates the ac...   \n",
       "23  Write a speech that explores the role of music...   \n",
       "24  What are the steps to create a custom API for ...   \n",
       "25  What are the steps to integrate a social media...   \n",
       "26  What is the purpose of API throttling and how ...   \n",
       "27  How can I implement pagination in a web applic...   \n",
       "28  Can you explain the concept of closures in Jav...   \n",
       "29   Can you provide tips for optimizing SQL queries?   \n",
       "\n",
       "                        cluster                          sub_class  \n",
       "0     Business and Productivity                   Email Generation  \n",
       "1     Business and Productivity                   Email Generation  \n",
       "2     Business and Productivity                   Email Generation  \n",
       "3     Business and Productivity              Presentation Creation  \n",
       "4     Business and Productivity              Presentation Creation  \n",
       "5     Business and Productivity              Presentation Creation  \n",
       "6                 Communication    Chatbots and Virtual Assistants  \n",
       "7                 Communication    Chatbots and Virtual Assistants  \n",
       "8                 Communication    Chatbots and Virtual Assistants  \n",
       "9                 Communication                       Conversation  \n",
       "10                Communication                       Conversation  \n",
       "11                Communication                       Conversation  \n",
       "12                Communication                      Mental Health  \n",
       "13                Communication                      Mental Health  \n",
       "14                Communication                      Mental Health  \n",
       "15              Music and Audio                     Music Creation  \n",
       "16              Music and Audio                     Music Creation  \n",
       "17              Music and Audio                     Music Creation  \n",
       "18              Music and Audio           Podcast Content Creation  \n",
       "19              Music and Audio           Podcast Content Creation  \n",
       "20              Music and Audio           Podcast Content Creation  \n",
       "21              Music and Audio                  Speech Generation  \n",
       "22              Music and Audio                  Speech Generation  \n",
       "23              Music and Audio                  Speech Generation  \n",
       "24  Programming and Development                    API Integration  \n",
       "25  Programming and Development                    API Integration  \n",
       "26  Programming and Development                    API Integration  \n",
       "27  Programming and Development  Coding and Programming Assistance  \n",
       "28  Programming and Development  Coding and Programming Assistance  \n",
       "29  Programming and Development  Coding and Programming Assistance  "
      ]
     },
     "execution_count": 26,
     "metadata": {},
     "output_type": "execute_result"
    }
   ],
   "source": [
    "sampled_df"
   ]
  },
  {
   "cell_type": "code",
   "execution_count": 28,
   "metadata": {},
   "outputs": [],
   "source": [
    "true_clusters = []\n",
    "predicted_clusters = []\n",
    "true_sub_classes = []\n",
    "predicted_sub_classes = []\n",
    "\n",
    "for index, row in sampled_df.iterrows():\n",
    "    prompt = row[\"prompt\"]\n",
    "    actual_cluster = row[\"cluster\"]\n",
    "    actual_sub_class = row[\"sub_class\"]\n",
    "\n",
    "    prediction = classify_request(prompt)\n",
    "\n",
    "    predicted_cluster = prediction[\"cluster\"]\n",
    "    predicted_sub_class = prediction[\"Sub Class\"]\n",
    "\n",
    "    true_clusters.append(actual_cluster)\n",
    "    predicted_clusters.append(predicted_cluster)\n",
    "    true_sub_classes.append(actual_sub_class)\n",
    "    predicted_sub_classes.append(predicted_sub_class)"
   ]
  },
  {
   "cell_type": "markdown",
   "metadata": {},
   "source": [
    "#### Cluster Metrics"
   ]
  },
  {
   "cell_type": "code",
   "execution_count": 29,
   "metadata": {},
   "outputs": [],
   "source": [
    "from sklearn.metrics import accuracy_score, f1_score, confusion_matrix"
   ]
  },
  {
   "cell_type": "code",
   "execution_count": 30,
   "metadata": {},
   "outputs": [
    {
     "name": "stdout",
     "output_type": "stream",
     "text": [
      "Cluster Accuracy: 86.67%\n",
      "Cluster F1 Score: 0.87\n",
      "Cluster Confusion Matrix:\n",
      "[[4 2 0 0]\n",
      " [0 9 0 0]\n",
      " [0 2 7 0]\n",
      " [0 0 0 6]]\n"
     ]
    }
   ],
   "source": [
    "# Calculate accuracy, F1 score and confusion matrix for cluster\n",
    "cluster_accuracy = accuracy_score(true_clusters, predicted_clusters)\n",
    "cluster_f1 = f1_score(true_clusters, predicted_clusters, average=\"weighted\")\n",
    "cluster_confusion_matrix = confusion_matrix(true_clusters, predicted_clusters)\n",
    "\n",
    "print(f\"Cluster Accuracy: {cluster_accuracy * 100:.2f}%\")\n",
    "print(f\"Cluster F1 Score: {cluster_f1:.2f}\")\n",
    "print(\"Cluster Confusion Matrix:\")\n",
    "print(cluster_confusion_matrix)"
   ]
  },
  {
   "cell_type": "code",
   "execution_count": 31,
   "metadata": {},
   "outputs": [
    {
     "name": "stdout",
     "output_type": "stream",
     "text": [
      "Sub Class Accuracy: 83.33%\n",
      "Sub Class F1 Score: 0.85\n",
      "Sub Class Confusion Matrix:\n",
      "[[3 0 0 0 0 0 0 0 0 0 0]\n",
      " [0 3 0 0 0 0 0 0 0 0 0]\n",
      " [0 0 3 0 0 0 0 0 0 0 0]\n",
      " [0 0 0 2 0 0 1 0 0 0 0]\n",
      " [0 0 0 1 2 0 0 0 0 0 0]\n",
      " [0 0 0 0 0 0 0 0 0 0 0]\n",
      " [0 0 0 0 0 0 3 0 0 0 0]\n",
      " [0 0 0 0 0 0 0 3 0 0 0]\n",
      " [0 0 0 0 0 0 0 0 3 0 0]\n",
      " [0 0 0 0 0 0 1 0 0 2 0]\n",
      " [0 0 0 0 0 2 0 0 0 0 1]]\n"
     ]
    }
   ],
   "source": [
    "sub_class_accuracy = accuracy_score(true_sub_classes, predicted_sub_classes)\n",
    "sub_class_f1 = f1_score(true_sub_classes, predicted_sub_classes, average=\"weighted\")\n",
    "sub_class_confusion_matrix = confusion_matrix(true_sub_classes, predicted_sub_classes)\n",
    "\n",
    "print(f\"Sub Class Accuracy: {sub_class_accuracy * 100:.2f}%\")\n",
    "print(f\"Sub Class F1 Score: {sub_class_f1:.2f}\")\n",
    "print(\"Sub Class Confusion Matrix:\")\n",
    "print(sub_class_confusion_matrix)"
   ]
  }
 ],
 "metadata": {
  "kernelspec": {
   "display_name": "llm-data-analyst",
   "language": "python",
   "name": "python3"
  },
  "language_info": {
   "codemirror_mode": {
    "name": "ipython",
    "version": 3
   },
   "file_extension": ".py",
   "mimetype": "text/x-python",
   "name": "python",
   "nbconvert_exporter": "python",
   "pygments_lexer": "ipython3",
   "version": "3.10.14"
  }
 },
 "nbformat": 4,
 "nbformat_minor": 2
}
