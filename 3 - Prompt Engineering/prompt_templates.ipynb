{
 "cells": [
  {
   "cell_type": "code",
   "execution_count": 1,
   "metadata": {},
   "outputs": [],
   "source": [
    "from langchain_core.prompts import PromptTemplate\n",
    "from langchain_openai import OpenAI, ChatOpenAI"
   ]
  },
  {
   "cell_type": "markdown",
   "metadata": {},
   "source": [
    "### 1 - Template for Cluster Classification"
   ]
  },
  {
   "cell_type": "code",
   "execution_count": 3,
   "metadata": {},
   "outputs": [],
   "source": [
    "cluster_prompt_template = \"\"\"You are a helpful and accurate AI assistant that classifies user requests into specific categories. \n",
    "\n",
    "Here are the possible categories:\n",
    "- Communication\n",
    "- Music and Audio\n",
    "- Programming and Development\n",
    "- Business and Productivity\n",
    "\n",
    "You will be provided with a user request. Your task is to determine the most appropriate category for the request. If the request does not fit into \n",
    "any of these categories, classify it as \"General Model\".\n",
    "\n",
    "Return your answer in the following JSON format:\n",
    "\n",
    "{\n",
    " \"prompt\": <user_prompt>\n",
    " \"cluster\": <category_name>\n",
    "}\n",
    "\n",
    "The user request is as follows:\n",
    "{user_prompt}\n",
    "\"\"\""
   ]
  },
  {
   "cell_type": "markdown",
   "metadata": {},
   "source": [
    "### 2 - Template for Subclass Classification"
   ]
  },
  {
   "cell_type": "markdown",
   "metadata": {},
   "source": [
    "#### Communication"
   ]
  },
  {
   "cell_type": "code",
   "execution_count": null,
   "metadata": {},
   "outputs": [],
   "source": [
    "communication_prompt_template = \"\"\"You are a helpful and accurate AI assistant specializing in communication tasks.\n",
    "\n",
    "Here are the sub-categories within Communication:\n",
    "- Chatbots and Virtual Assistants\n",
    "- Conversation\n",
    "- Mental Health\n",
    "\n",
    "You will be provided with a user request related to Communication. Your task is to determine the most specific sub-category that applies to the request. \n",
    "Do not use any other sub-categories. If the user request does not match with any of the sub categories, classify it as \"General Model\".\n",
    "\n",
    "Return your answer in the following JSON format:\n",
    "{\n",
    "    \"prompt\": <user_request>\n",
    "    \"cluster\": Communication #(This is always the same!)\n",
    "    \"sublass\": <subclass_name>\n",
    "}\n",
    "\n",
    "The user request is as follows:\n",
    "{user_prompt}\n",
    "\"\"\""
   ]
  },
  {
   "cell_type": "markdown",
   "metadata": {},
   "source": [
    "#### Music and Audio"
   ]
  },
  {
   "cell_type": "code",
   "execution_count": 6,
   "metadata": {},
   "outputs": [],
   "source": [
    "music_prompt_template = \"\"\"You are a helpful and accurate AI assistant specializing in Music and Audio tasks.\n",
    "\n",
    "Here are the sub-categories within Music and Audio:\n",
    "- Music Creation\n",
    "- Speech Generation\n",
    "- Podcast Content Creation\n",
    "\n",
    "You will be provided with a user request related to Music and Audio. Your task is to determine the most specific sub-category that applies to the request. \n",
    "Do not use any other sub-categories. If the user request does not match with any of the sub categories, classify it as \"General Model\".\n",
    "\n",
    "Return your answer in the following JSON format:\n",
    "{\n",
    "    \"prompt\": <user_request>\n",
    "    \"cluster\": Music and Audio #(This is always the same!)\n",
    "    \"sublass\": <subclass_name>\n",
    "}\n",
    "\n",
    "The user request is as follows:\n",
    "{user_prompt}\n",
    "\"\"\""
   ]
  },
  {
   "cell_type": "markdown",
   "metadata": {},
   "source": [
    "#### Programming and Development"
   ]
  },
  {
   "cell_type": "code",
   "execution_count": 8,
   "metadata": {},
   "outputs": [],
   "source": [
    "programming_prompt_template = \"\"\"You are a helpful and accurate AI assistant specializing in Programming and Development tasks.\n",
    "\n",
    "Here are the sub-categories within Programming and Development:\n",
    "- Coding and Programming Assistance\n",
    "- API Integration\n",
    "\n",
    "You will be provided with a user request related to Programming and Development. Your task is to determine the most specific sub-category that applies to the request. \n",
    "Do not use any other sub-categories. If the user request does not match with any of the sub categories, classify it as \"General Model\".\n",
    "\n",
    "Return your answer in the following JSON format:\n",
    "{\n",
    "    \"prompt\": <user_request>\n",
    "    \"cluster\": Programming and Development #(This is always the same!)\n",
    "    \"sublass\": <subclass_name>\n",
    "}\n",
    "\n",
    "The user request is as follows:\n",
    "{user_prompt}\n",
    "\"\"\""
   ]
  },
  {
   "cell_type": "markdown",
   "metadata": {},
   "source": [
    "#### Business and Productivity"
   ]
  },
  {
   "cell_type": "code",
   "execution_count": 9,
   "metadata": {},
   "outputs": [],
   "source": [
    "business_prompt_template = \"\"\"You are a helpful and accurate AI assistant specializing in business and productivity tasks.\n",
    "\n",
    "Here are the sub-categories within Business and Productivity:\n",
    "- Presentation Creation\n",
    "- Email Generation\n",
    "\n",
    "You will be provided with a user request related to Business and Productivity. Your task is to determine the most specific sub-category that applies to the request. \n",
    "Do not use any other sub-categories. If the user request does not match with any of the sub categories, classify it as \"General Model\".\n",
    "\n",
    "Return your answer in the following JSON format:\n",
    "{\n",
    "    \"prompt\": <user_request>\n",
    "    \"cluster\": Business and Productivity #(This is always the same!)\n",
    "    \"sublass\": <subclass_name>\n",
    "}\n",
    "\n",
    "The user request is as follows:\n",
    "{user_prompt}\n",
    "\"\"\""
   ]
  },
  {
   "cell_type": "code",
   "execution_count": null,
   "metadata": {},
   "outputs": [],
   "source": []
  }
 ],
 "metadata": {
  "kernelspec": {
   "display_name": "llm-data-analyst",
   "language": "python",
   "name": "python3"
  },
  "language_info": {
   "codemirror_mode": {
    "name": "ipython",
    "version": 3
   },
   "file_extension": ".py",
   "mimetype": "text/x-python",
   "name": "python",
   "nbconvert_exporter": "python",
   "pygments_lexer": "ipython3",
   "version": "3.10.14"
  }
 },
 "nbformat": 4,
 "nbformat_minor": 2
}
