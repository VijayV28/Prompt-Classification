{
 "cells": [
  {
   "cell_type": "markdown",
   "metadata": {},
   "source": [
    "### 1 - Importing necessary libraries"
   ]
  },
  {
   "cell_type": "code",
   "execution_count": 1,
   "metadata": {},
   "outputs": [],
   "source": [
    "# import required libraries\n",
    "import pandas as pd\n",
    "import numpy as np\n",
    "import seaborn as sns\n",
    "\n",
    "import torch"
   ]
  },
  {
   "cell_type": "code",
   "execution_count": 2,
   "metadata": {},
   "outputs": [
    {
     "data": {
      "text/html": [
       "<div>\n",
       "<style scoped>\n",
       "    .dataframe tbody tr th:only-of-type {\n",
       "        vertical-align: middle;\n",
       "    }\n",
       "\n",
       "    .dataframe tbody tr th {\n",
       "        vertical-align: top;\n",
       "    }\n",
       "\n",
       "    .dataframe thead th {\n",
       "        text-align: right;\n",
       "    }\n",
       "</style>\n",
       "<table border=\"1\" class=\"dataframe\">\n",
       "  <thead>\n",
       "    <tr style=\"text-align: right;\">\n",
       "      <th></th>\n",
       "      <th>prompt</th>\n",
       "      <th>cluster</th>\n",
       "      <th>sub_class</th>\n",
       "    </tr>\n",
       "  </thead>\n",
       "  <tbody>\n",
       "    <tr>\n",
       "      <th>0</th>\n",
       "      <td>How can I integrate a chatbot into my website ...</td>\n",
       "      <td>Communication</td>\n",
       "      <td>Chatbots and Virtual Assistants</td>\n",
       "    </tr>\n",
       "    <tr>\n",
       "      <th>1</th>\n",
       "      <td>What are the best practices for designing a co...</td>\n",
       "      <td>Communication</td>\n",
       "      <td>Chatbots and Virtual Assistants</td>\n",
       "    </tr>\n",
       "    <tr>\n",
       "      <th>2</th>\n",
       "      <td>Can chatbots handle complex queries, or are th...</td>\n",
       "      <td>Communication</td>\n",
       "      <td>Chatbots and Virtual Assistants</td>\n",
       "    </tr>\n",
       "    <tr>\n",
       "      <th>3</th>\n",
       "      <td>What platforms are available for building cust...</td>\n",
       "      <td>Communication</td>\n",
       "      <td>Chatbots and Virtual Assistants</td>\n",
       "    </tr>\n",
       "    <tr>\n",
       "      <th>4</th>\n",
       "      <td>How do I ensure my chatbot understands user in...</td>\n",
       "      <td>Communication</td>\n",
       "      <td>Chatbots and Virtual Assistants</td>\n",
       "    </tr>\n",
       "  </tbody>\n",
       "</table>\n",
       "</div>"
      ],
      "text/plain": [
       "                                              prompt        cluster  \\\n",
       "0  How can I integrate a chatbot into my website ...  Communication   \n",
       "1  What are the best practices for designing a co...  Communication   \n",
       "2  Can chatbots handle complex queries, or are th...  Communication   \n",
       "3  What platforms are available for building cust...  Communication   \n",
       "4  How do I ensure my chatbot understands user in...  Communication   \n",
       "\n",
       "                         sub_class  \n",
       "0  Chatbots and Virtual Assistants  \n",
       "1  Chatbots and Virtual Assistants  \n",
       "2  Chatbots and Virtual Assistants  \n",
       "3  Chatbots and Virtual Assistants  \n",
       "4  Chatbots and Virtual Assistants  "
      ]
     },
     "execution_count": 2,
     "metadata": {},
     "output_type": "execute_result"
    }
   ],
   "source": [
    "df = pd.read_csv(\"../data/raw/prompts_v1.csv\")\n",
    "df.head()"
   ]
  },
  {
   "cell_type": "markdown",
   "metadata": {},
   "source": [
    "### 2 - Initializing target maps"
   ]
  },
  {
   "cell_type": "code",
   "execution_count": 3,
   "metadata": {},
   "outputs": [
    {
     "data": {
      "text/plain": [
       "{'Chatbots and Virtual Assistants': 0,\n",
       " 'Conversation': 1,\n",
       " 'Mental Health': 2,\n",
       " 'Music Creation': 3,\n",
       " 'Speech Generation': 4,\n",
       " 'Podcast Content Creation': 5,\n",
       " 'Coding and Programming Assistance': 6,\n",
       " 'API Integration': 7,\n",
       " 'Presentation Creation': 8,\n",
       " 'Email Generation': 9}"
      ]
     },
     "execution_count": 3,
     "metadata": {},
     "output_type": "execute_result"
    }
   ],
   "source": [
    "subclass_target_map = {}\n",
    "subclasses = list(df[\"sub_class\"].unique())\n",
    "for i, subclass in enumerate(subclasses):\n",
    "    subclass_target_map[subclass] = i\n",
    "subclass_target_map"
   ]
  },
  {
   "cell_type": "code",
   "execution_count": 4,
   "metadata": {},
   "outputs": [
    {
     "data": {
      "text/plain": [
       "{'Communication': 0,\n",
       " 'Music and Audio': 1,\n",
       " 'Programming and Development': 2,\n",
       " 'Business and Productivity': 3}"
      ]
     },
     "execution_count": 4,
     "metadata": {},
     "output_type": "execute_result"
    }
   ],
   "source": [
    "cluster_target_map = {}\n",
    "clusters = list(df[\"cluster\"].unique())\n",
    "for i, cluster in enumerate(clusters):\n",
    "    cluster_target_map[cluster] = i\n",
    "cluster_target_map"
   ]
  },
  {
   "cell_type": "markdown",
   "metadata": {},
   "source": [
    "### 3 - Loading the models for clusters and sub classes"
   ]
  },
  {
   "cell_type": "code",
   "execution_count": 6,
   "metadata": {},
   "outputs": [],
   "source": [
    "from transformers import pipeline\n",
    "\n",
    "subclass_model = pipeline(\n",
    "    \"text-classification\", model=\"../models/subclass_models_v1/checkpoint-84\"\n",
    ")\n",
    "cluster_model = pipeline(\n",
    "    \"text-classification\", model=\"../models/cluster_models_v1/checkpoint-56\"\n",
    ")"
   ]
  },
  {
   "cell_type": "markdown",
   "metadata": {},
   "source": [
    "### 4 - Making predictions"
   ]
  },
  {
   "cell_type": "code",
   "execution_count": 7,
   "metadata": {},
   "outputs": [],
   "source": [
    "def get_label(d):\n",
    "    return int(d[\"label\"].split(\"_\")[1])"
   ]
  },
  {
   "cell_type": "code",
   "execution_count": 12,
   "metadata": {},
   "outputs": [],
   "source": [
    "def predict_cluster(text):\n",
    "    prediction = cluster_model(text)\n",
    "    if prediction[0][\"score\"] < 0.6:\n",
    "        return \"General Model\"\n",
    "    label = get_label(prediction[0])\n",
    "    cluster = list(cluster_target_map.keys())[label]\n",
    "    return cluster, prediction[0][\"score\"]"
   ]
  },
  {
   "cell_type": "code",
   "execution_count": 19,
   "metadata": {},
   "outputs": [],
   "source": [
    "def predict_subclass(text):\n",
    "    prediction = subclass_model(text)\n",
    "    if prediction[0][\"score\"] < 0.5:\n",
    "        return \"General Model\", prediction[0]\n",
    "    label = get_label(prediction[0])\n",
    "    subclass = list(subclass_target_map.keys())[label]\n",
    "    return subclass, prediction[0][\"score\"]"
   ]
  },
  {
   "cell_type": "code",
   "execution_count": 20,
   "metadata": {},
   "outputs": [
    {
     "data": {
      "text/plain": [
       "('Programming and Development', 0.9439895153045654)"
      ]
     },
     "execution_count": 20,
     "metadata": {},
     "output_type": "execute_result"
    }
   ],
   "source": [
    "predict_cluster(\"How to create an API?\")"
   ]
  },
  {
   "cell_type": "code",
   "execution_count": 21,
   "metadata": {},
   "outputs": [
    {
     "data": {
      "text/plain": [
       "('API Integration', 0.5087920427322388)"
      ]
     },
     "execution_count": 21,
     "metadata": {},
     "output_type": "execute_result"
    }
   ],
   "source": [
    "predict_subclass(\"How to create an API?\")"
   ]
  },
  {
   "cell_type": "code",
   "execution_count": 22,
   "metadata": {},
   "outputs": [
    {
     "data": {
      "text/plain": [
       "('Communication', 0.7689138054847717)"
      ]
     },
     "execution_count": 22,
     "metadata": {},
     "output_type": "execute_result"
    }
   ],
   "source": [
    "predict_cluster(\"Which doctor is the best?\")"
   ]
  },
  {
   "cell_type": "code",
   "execution_count": 23,
   "metadata": {},
   "outputs": [
    {
     "data": {
      "text/plain": [
       "('General Model', {'label': 'LABEL_2', 'score': 0.28602322936058044})"
      ]
     },
     "execution_count": 23,
     "metadata": {},
     "output_type": "execute_result"
    }
   ],
   "source": [
    "predict_subclass(\"Which doctor is the best?\")"
   ]
  },
  {
   "cell_type": "markdown",
   "metadata": {},
   "source": [
    "### 5 - Functionalizing the code"
   ]
  },
  {
   "cell_type": "code",
   "execution_count": 30,
   "metadata": {},
   "outputs": [],
   "source": [
    "def get_cluster_label_and_score(prediction):\n",
    "    idx = int(prediction[0][\"label\"].split(\"_\")[1])\n",
    "    label = list(cluster_target_map.keys())[idx]\n",
    "    score = prediction[0][\"score\"]\n",
    "    return {\"label\": label, \"score\": score}"
   ]
  },
  {
   "cell_type": "code",
   "execution_count": 36,
   "metadata": {},
   "outputs": [],
   "source": [
    "def get_subclass_label_and_score(prediction):\n",
    "    idx = int(prediction[0][\"label\"].split(\"_\")[1])\n",
    "    label = list(subclass_target_map.keys())[idx]\n",
    "    score = prediction[0][\"score\"]\n",
    "    return {\"label\": label, \"score\": score}"
   ]
  },
  {
   "cell_type": "code",
   "execution_count": 47,
   "metadata": {},
   "outputs": [],
   "source": [
    "def get_cluster_from_subclass(subclass):\n",
    "    cluster = df[df[\"sub_class\"] == subclass][\"cluster\"].values[0]\n",
    "    return cluster"
   ]
  },
  {
   "cell_type": "code",
   "execution_count": 61,
   "metadata": {},
   "outputs": [],
   "source": [
    "def predict_prompt(text):\n",
    "    subclass = get_subclass_label_and_score(subclass_model(text))\n",
    "    if subclass[\"score\"] > 0.5:\n",
    "        cluster = get_cluster_from_subclass(subclass[\"label\"])\n",
    "        return f\"Subclass: {subclass['label']} | Cluster: {cluster}\"\n",
    "    else:\n",
    "        cluster = get_cluster_label_and_score(cluster_model(text))\n",
    "        if cluster[\"score\"] > 0.7:\n",
    "            return f\"Cluster: {cluster['label']} | Subclass: N/A (Suggested: {subclass['label']})\"\n",
    "        return \"General Model\""
   ]
  },
  {
   "cell_type": "code",
   "execution_count": 62,
   "metadata": {},
   "outputs": [],
   "source": [
    "text = \"Give me steps for digital marketing\""
   ]
  },
  {
   "cell_type": "code",
   "execution_count": 63,
   "metadata": {},
   "outputs": [
    {
     "data": {
      "text/plain": [
       "'General Model'"
      ]
     },
     "execution_count": 63,
     "metadata": {},
     "output_type": "execute_result"
    }
   ],
   "source": [
    "predict_prompt(text)"
   ]
  },
  {
   "cell_type": "code",
   "execution_count": 65,
   "metadata": {},
   "outputs": [],
   "source": [
    "text = \"How to help a friend with depression\""
   ]
  },
  {
   "cell_type": "code",
   "execution_count": 66,
   "metadata": {},
   "outputs": [
    {
     "data": {
      "text/plain": [
       "'Subclass: Mental Health | Cluster: Communication'"
      ]
     },
     "execution_count": 66,
     "metadata": {},
     "output_type": "execute_result"
    }
   ],
   "source": [
    "predict_prompt(text)"
   ]
  },
  {
   "cell_type": "code",
   "execution_count": 68,
   "metadata": {},
   "outputs": [
    {
     "data": {
      "text/plain": [
       "'Subclass: Email Generation | Cluster: Business and Productivity'"
      ]
     },
     "execution_count": 68,
     "metadata": {},
     "output_type": "execute_result"
    }
   ],
   "source": [
    "text = \"Help me write an email for my friend\"\n",
    "predict_prompt(text)"
   ]
  }
 ],
 "metadata": {
  "kernelspec": {
   "display_name": "llm-data-analyst",
   "language": "python",
   "name": "python3"
  },
  "language_info": {
   "codemirror_mode": {
    "name": "ipython",
    "version": 3
   },
   "file_extension": ".py",
   "mimetype": "text/x-python",
   "name": "python",
   "nbconvert_exporter": "python",
   "pygments_lexer": "ipython3",
   "version": "3.10.14"
  }
 },
 "nbformat": 4,
 "nbformat_minor": 2
}
