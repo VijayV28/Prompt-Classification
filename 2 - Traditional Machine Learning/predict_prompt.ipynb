{
 "cells": [
  {
   "cell_type": "markdown",
   "metadata": {},
   "source": [
    "### 1 - Importing necessary libraries and data"
   ]
  },
  {
   "cell_type": "code",
   "execution_count": 20,
   "metadata": {},
   "outputs": [],
   "source": [
    "import nltk\n",
    "from nltk.corpus import stopwords\n",
    "from nltk.stem import WordNetLemmatizer\n",
    "import string\n",
    "import joblib\n",
    "import pandas as pd"
   ]
  },
  {
   "cell_type": "code",
   "execution_count": 19,
   "metadata": {},
   "outputs": [
    {
     "ename": "NameError",
     "evalue": "name 'pd' is not defined",
     "output_type": "error",
     "traceback": [
      "\u001b[1;31m---------------------------------------------------------------------------\u001b[0m",
      "\u001b[1;31mNameError\u001b[0m                                 Traceback (most recent call last)",
      "Cell \u001b[1;32mIn[19], line 1\u001b[0m\n\u001b[1;32m----> 1\u001b[0m df \u001b[38;5;241m=\u001b[39m \u001b[43mpd\u001b[49m\u001b[38;5;241m.\u001b[39mread_csv(\u001b[38;5;124m\"\u001b[39m\u001b[38;5;124m../data/raw/prompts_v1.csv\u001b[39m\u001b[38;5;124m\"\u001b[39m)\n",
      "\u001b[1;31mNameError\u001b[0m: name 'pd' is not defined"
     ]
    }
   ],
   "source": [
    "df = pd.read_csv(\"../data/raw/prompts_v1.csv\")"
   ]
  },
  {
   "cell_type": "markdown",
   "metadata": {},
   "source": [
    "### 2 - Loading the models"
   ]
  },
  {
   "cell_type": "code",
   "execution_count": 2,
   "metadata": {},
   "outputs": [],
   "source": [
    "import joblib\n",
    "\n",
    "cluster_LR = joblib.load(\"../models/ML Models/cluster_LR_model.pkl\")\n",
    "cluster_encoder = joblib.load(\"../models/ML Models/cluster_label_encoder.pkl\")\n",
    "\n",
    "subclass_LR = joblib.load(\"../models/ML Models/subclass_LR_model.pkl\")\n",
    "subclass_encoder = joblib.load(\"../models/ML Models/subclass_label_encoder.pkl\")\n",
    "\n",
    "vectorizer = joblib.load(\"../models/ML Models/tfidf_vectorizer.pkl\")"
   ]
  },
  {
   "cell_type": "markdown",
   "metadata": {},
   "source": [
    "### 3 - Function to predict clusters and prompts"
   ]
  },
  {
   "cell_type": "code",
   "execution_count": 21,
   "metadata": {},
   "outputs": [],
   "source": [
    "def get_cluster_from_subclass(subclass):\n",
    "    cluster = df[df[\"sub_class\"] == subclass][\"cluster\"].values[0]\n",
    "    return cluster"
   ]
  },
  {
   "cell_type": "code",
   "execution_count": 22,
   "metadata": {},
   "outputs": [],
   "source": [
    "def classify_prompt(new_prompt):\n",
    "\n",
    "    X_new = vectorizer.transform([new_prompt])\n",
    "\n",
    "    cluster_probabilities = cluster_LR.predict_proba(X_new)\n",
    "    subclass_probabilities = subclass_LR.predict_proba(X_new)\n",
    "\n",
    "    cluster_predicted_index = cluster_probabilities.argmax(axis=1)\n",
    "    subclass_predicted_index = subclass_probabilities.argmax(axis=1)\n",
    "\n",
    "    cluster_confidence_score = cluster_probabilities[0][cluster_predicted_index]\n",
    "\n",
    "    subclass_confidence_score = subclass_probabilities[0][subclass_predicted_index]\n",
    "    predicted_subclass_label = subclass_encoder.inverse_transform(\n",
    "        subclass_predicted_index\n",
    "    )\n",
    "\n",
    "    if subclass_confidence_score > 0.55:\n",
    "        predicted_cluster_label = get_cluster_from_subclass(predicted_cluster_label[0])\n",
    "        return f\"Subclass: {predicted_cluster_label[0]} | Cluster: {predicted_cluster_label}\"\n",
    "\n",
    "    else:\n",
    "        predicted_cluster_label = cluster_encoder.inverse_transform(\n",
    "            cluster_predicted_index\n",
    "        )\n",
    "        if cluster_confidence_score > 0.45:\n",
    "            return f\"Cluster: {predicted_cluster_label[0]} | Subclass: N/A (Suggested: {predicted_subclass_label})\"\n",
    "\n",
    "        return \"General Model\""
   ]
  },
  {
   "cell_type": "code",
   "execution_count": 24,
   "metadata": {},
   "outputs": [
    {
     "data": {
      "text/plain": [
       "\"Cluster: Programming and Development | Subclass: N/A (Suggested: ['API Integration'])\""
      ]
     },
     "execution_count": 24,
     "metadata": {},
     "output_type": "execute_result"
    }
   ],
   "source": [
    "classify_prompt(\"How to use OpenAI's API within Streamlit?\")"
   ]
  },
  {
   "cell_type": "code",
   "execution_count": 28,
   "metadata": {},
   "outputs": [
    {
     "data": {
      "text/plain": [
       "\"Cluster: Business and Productivity | Subclass: N/A (Suggested: ['Email Generation'])\""
      ]
     },
     "execution_count": 28,
     "metadata": {},
     "output_type": "execute_result"
    }
   ],
   "source": [
    "classify_prompt(\"How to write an email to my team lead?\")"
   ]
  },
  {
   "cell_type": "code",
   "execution_count": 29,
   "metadata": {},
   "outputs": [
    {
     "data": {
      "text/plain": [
       "'General Model'"
      ]
     },
     "execution_count": 29,
     "metadata": {},
     "output_type": "execute_result"
    }
   ],
   "source": [
    "classify_prompt(\"Help a friend with depression\")"
   ]
  }
 ],
 "metadata": {
  "kernelspec": {
   "display_name": "llm-data-analyst",
   "language": "python",
   "name": "python3"
  },
  "language_info": {
   "codemirror_mode": {
    "name": "ipython",
    "version": 3
   },
   "file_extension": ".py",
   "mimetype": "text/x-python",
   "name": "python",
   "nbconvert_exporter": "python",
   "pygments_lexer": "ipython3",
   "version": "3.10.14"
  }
 },
 "nbformat": 4,
 "nbformat_minor": 2
}
