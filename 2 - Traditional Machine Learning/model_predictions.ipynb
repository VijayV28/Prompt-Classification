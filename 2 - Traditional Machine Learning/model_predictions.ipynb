{
 "cells": [
  {
   "cell_type": "markdown",
   "metadata": {},
   "source": [
    "### 1 - Importing necessary libraries"
   ]
  },
  {
   "cell_type": "code",
   "execution_count": 21,
   "metadata": {},
   "outputs": [],
   "source": [
    "import numpy as np\n",
    "import pandas as pd\n",
    "from sklearn.model_selection import train_test_split\n",
    "import matplotlib.pyplot as plt\n",
    "from LearningAlgorithms import ClassificationAlgorithms\n",
    "import seaborn as sns\n",
    "from sklearn.metrics import accuracy_score, confusion_matrix\n",
    "from mlxtend.plotting import plot_confusion_matrix"
   ]
  },
  {
   "cell_type": "markdown",
   "metadata": {},
   "source": [
    "### 2 - Feature Engineering"
   ]
  },
  {
   "cell_type": "code",
   "execution_count": 2,
   "metadata": {},
   "outputs": [
    {
     "data": {
      "text/html": [
       "<div>\n",
       "<style scoped>\n",
       "    .dataframe tbody tr th:only-of-type {\n",
       "        vertical-align: middle;\n",
       "    }\n",
       "\n",
       "    .dataframe tbody tr th {\n",
       "        vertical-align: top;\n",
       "    }\n",
       "\n",
       "    .dataframe thead th {\n",
       "        text-align: right;\n",
       "    }\n",
       "</style>\n",
       "<table border=\"1\" class=\"dataframe\">\n",
       "  <thead>\n",
       "    <tr style=\"text-align: right;\">\n",
       "      <th></th>\n",
       "      <th>prompt</th>\n",
       "      <th>cluster</th>\n",
       "      <th>sub_class</th>\n",
       "    </tr>\n",
       "  </thead>\n",
       "  <tbody>\n",
       "    <tr>\n",
       "      <th>0</th>\n",
       "      <td>How can I integrate a chatbot into my website ...</td>\n",
       "      <td>Communication</td>\n",
       "      <td>Chatbots and Virtual Assistants</td>\n",
       "    </tr>\n",
       "    <tr>\n",
       "      <th>1</th>\n",
       "      <td>What are the best practices for designing a co...</td>\n",
       "      <td>Communication</td>\n",
       "      <td>Chatbots and Virtual Assistants</td>\n",
       "    </tr>\n",
       "    <tr>\n",
       "      <th>2</th>\n",
       "      <td>Can chatbots handle complex queries, or are th...</td>\n",
       "      <td>Communication</td>\n",
       "      <td>Chatbots and Virtual Assistants</td>\n",
       "    </tr>\n",
       "    <tr>\n",
       "      <th>3</th>\n",
       "      <td>What platforms are available for building cust...</td>\n",
       "      <td>Communication</td>\n",
       "      <td>Chatbots and Virtual Assistants</td>\n",
       "    </tr>\n",
       "    <tr>\n",
       "      <th>4</th>\n",
       "      <td>How do I ensure my chatbot understands user in...</td>\n",
       "      <td>Communication</td>\n",
       "      <td>Chatbots and Virtual Assistants</td>\n",
       "    </tr>\n",
       "  </tbody>\n",
       "</table>\n",
       "</div>"
      ],
      "text/plain": [
       "                                              prompt        cluster  \\\n",
       "0  How can I integrate a chatbot into my website ...  Communication   \n",
       "1  What are the best practices for designing a co...  Communication   \n",
       "2  Can chatbots handle complex queries, or are th...  Communication   \n",
       "3  What platforms are available for building cust...  Communication   \n",
       "4  How do I ensure my chatbot understands user in...  Communication   \n",
       "\n",
       "                         sub_class  \n",
       "0  Chatbots and Virtual Assistants  \n",
       "1  Chatbots and Virtual Assistants  \n",
       "2  Chatbots and Virtual Assistants  \n",
       "3  Chatbots and Virtual Assistants  \n",
       "4  Chatbots and Virtual Assistants  "
      ]
     },
     "execution_count": 2,
     "metadata": {},
     "output_type": "execute_result"
    }
   ],
   "source": [
    "df = pd.read_csv(\"../data/raw/prompts_v1.csv\")\n",
    "df.head()"
   ]
  },
  {
   "cell_type": "code",
   "execution_count": 3,
   "metadata": {},
   "outputs": [],
   "source": [
    "X = df[\"prompt\"]\n",
    "y_sub_class = df[\"sub_class\"]\n",
    "y_cluster = df[\"cluster\"]"
   ]
  },
  {
   "cell_type": "markdown",
   "metadata": {},
   "source": [
    "##### Encoding the data"
   ]
  },
  {
   "cell_type": "code",
   "execution_count": 4,
   "metadata": {},
   "outputs": [],
   "source": [
    "from sklearn.preprocessing import LabelEncoder\n",
    "\n",
    "label_encoder_sub_class = LabelEncoder()\n",
    "label_encoder_cluster = LabelEncoder()\n",
    "y_sub_class = label_encoder_sub_class.fit_transform(y_sub_class)\n",
    "y_cluster = label_encoder_cluster.fit_transform(y_cluster)"
   ]
  },
  {
   "cell_type": "code",
   "execution_count": 5,
   "metadata": {},
   "outputs": [
    {
     "data": {
      "text/plain": [
       "array([1, 1, 1, 1, 1, 1, 1, 1, 1, 1, 1, 1, 1, 1, 1, 1, 1, 1, 1, 1, 1, 1,\n",
       "       1, 1, 1, 1, 1, 1, 1, 1, 1, 1, 3, 3, 3, 3, 3, 3, 3, 3, 3, 3, 3, 3,\n",
       "       3, 3, 3, 3, 3, 3, 3, 3, 3, 3, 3, 3, 3, 3, 3, 3, 3, 3, 3, 3, 3, 5,\n",
       "       5, 5, 5, 5, 5, 5, 5, 5, 5, 5, 5, 5, 5, 5, 5, 5, 5, 5, 5, 5, 5, 5,\n",
       "       5, 5, 5, 5, 5, 5, 5, 6, 6, 6, 6, 6, 6, 6, 6, 6, 6, 6, 6, 6, 6, 6,\n",
       "       6, 6, 6, 6, 6, 6, 6, 6, 6, 6, 6, 6, 6, 6, 6, 6, 6, 9, 9, 9, 9, 9,\n",
       "       9, 9, 9, 9, 9, 9, 9, 9, 9, 9, 9, 9, 9, 9, 9, 9, 9, 9, 9, 9, 9, 9,\n",
       "       9, 9, 9, 9, 7, 7, 7, 7, 7, 7, 7, 7, 7, 7, 7, 7, 7, 7, 7, 7, 7, 7,\n",
       "       7, 7, 7, 7, 7, 7, 7, 7, 7, 7, 7, 7, 7, 7, 2, 2, 2, 2, 2, 2, 2, 2,\n",
       "       2, 2, 2, 2, 2, 2, 2, 2, 2, 2, 2, 2, 2, 2, 2, 2, 2, 2, 2, 2, 2, 2,\n",
       "       2, 2, 0, 0, 0, 0, 0, 0, 0, 0, 0, 0, 0, 0, 0, 0, 0, 0, 0, 0, 0, 0,\n",
       "       0, 0, 0, 0, 0, 0, 0, 0, 0, 0, 0, 8, 8, 8, 8, 8, 8, 8, 8, 8, 8, 8,\n",
       "       8, 8, 8, 8, 8, 8, 8, 8, 8, 8, 8, 8, 8, 8, 8, 8, 8, 8, 8, 8, 4, 4,\n",
       "       4, 4, 4, 4, 4, 4, 4, 4, 4, 4, 4, 4, 4, 4, 4, 4, 4, 4, 4, 4, 4, 4,\n",
       "       4, 4, 4, 4, 4, 4, 4, 4])"
      ]
     },
     "execution_count": 5,
     "metadata": {},
     "output_type": "execute_result"
    }
   ],
   "source": [
    "y_sub_class"
   ]
  },
  {
   "cell_type": "code",
   "execution_count": 6,
   "metadata": {},
   "outputs": [
    {
     "data": {
      "text/plain": [
       "array([1, 1, 1, 1, 1, 1, 1, 1, 1, 1, 1, 1, 1, 1, 1, 1, 1, 1, 1, 1, 1, 1,\n",
       "       1, 1, 1, 1, 1, 1, 1, 1, 1, 1, 1, 1, 1, 1, 1, 1, 1, 1, 1, 1, 1, 1,\n",
       "       1, 1, 1, 1, 1, 1, 1, 1, 1, 1, 1, 1, 1, 1, 1, 1, 1, 1, 1, 1, 1, 1,\n",
       "       1, 1, 1, 1, 1, 1, 1, 1, 1, 1, 1, 1, 1, 1, 1, 1, 1, 1, 1, 1, 1, 1,\n",
       "       1, 1, 1, 1, 1, 1, 1, 2, 2, 2, 2, 2, 2, 2, 2, 2, 2, 2, 2, 2, 2, 2,\n",
       "       2, 2, 2, 2, 2, 2, 2, 2, 2, 2, 2, 2, 2, 2, 2, 2, 2, 2, 2, 2, 2, 2,\n",
       "       2, 2, 2, 2, 2, 2, 2, 2, 2, 2, 2, 2, 2, 2, 2, 2, 2, 2, 2, 2, 2, 2,\n",
       "       2, 2, 2, 2, 2, 2, 2, 2, 2, 2, 2, 2, 2, 2, 2, 2, 2, 2, 2, 2, 2, 2,\n",
       "       2, 2, 2, 2, 2, 2, 2, 2, 2, 2, 2, 2, 2, 2, 3, 3, 3, 3, 3, 3, 3, 3,\n",
       "       3, 3, 3, 3, 3, 3, 3, 3, 3, 3, 3, 3, 3, 3, 3, 3, 3, 3, 3, 3, 3, 3,\n",
       "       3, 3, 3, 3, 3, 3, 3, 3, 3, 3, 3, 3, 3, 3, 3, 3, 3, 3, 3, 3, 3, 3,\n",
       "       3, 3, 3, 3, 3, 3, 3, 3, 3, 3, 3, 0, 0, 0, 0, 0, 0, 0, 0, 0, 0, 0,\n",
       "       0, 0, 0, 0, 0, 0, 0, 0, 0, 0, 0, 0, 0, 0, 0, 0, 0, 0, 0, 0, 0, 0,\n",
       "       0, 0, 0, 0, 0, 0, 0, 0, 0, 0, 0, 0, 0, 0, 0, 0, 0, 0, 0, 0, 0, 0,\n",
       "       0, 0, 0, 0, 0, 0, 0, 0])"
      ]
     },
     "execution_count": 6,
     "metadata": {},
     "output_type": "execute_result"
    }
   ],
   "source": [
    "y_cluster"
   ]
  },
  {
   "cell_type": "markdown",
   "metadata": {},
   "source": [
    "#### Splitting the data"
   ]
  },
  {
   "cell_type": "code",
   "execution_count": 7,
   "metadata": {},
   "outputs": [],
   "source": [
    "(\n",
    "    X_train,\n",
    "    X_test,\n",
    "    y_sub_class_train,\n",
    "    y_sub_class_test,\n",
    "    y_cluster_train,\n",
    "    y_cluster_test,\n",
    ") = train_test_split(X, y_sub_class, y_cluster, test_size=0.2, random_state=42)"
   ]
  },
  {
   "cell_type": "code",
   "execution_count": 15,
   "metadata": {},
   "outputs": [],
   "source": [
    "y_sub_class_train, y_cluster_train = pd.DataFrame(y_sub_class_train), pd.DataFrame(\n",
    "    y_cluster_train\n",
    ")"
   ]
  },
  {
   "cell_type": "markdown",
   "metadata": {},
   "source": [
    "#### Vectorizing the prompts"
   ]
  },
  {
   "cell_type": "code",
   "execution_count": 8,
   "metadata": {},
   "outputs": [],
   "source": [
    "from sklearn.feature_extraction.text import TfidfVectorizer\n",
    "\n",
    "vectorizer = TfidfVectorizer()\n",
    "X_train_vectors = vectorizer.fit_transform(X_train)\n",
    "X_test_vectors = vectorizer.transform(X_test)"
   ]
  },
  {
   "cell_type": "code",
   "execution_count": 9,
   "metadata": {},
   "outputs": [
    {
     "data": {
      "text/plain": [
       "<Compressed Sparse Row sparse matrix of dtype 'float64'\n",
       "\twith 2529 stored elements and shape (252, 733)>"
      ]
     },
     "execution_count": 9,
     "metadata": {},
     "output_type": "execute_result"
    }
   ],
   "source": [
    "X_train_vectors"
   ]
  },
  {
   "cell_type": "code",
   "execution_count": 10,
   "metadata": {},
   "outputs": [
    {
     "data": {
      "text/plain": [
       "<Compressed Sparse Row sparse matrix of dtype 'float64'\n",
       "\twith 541 stored elements and shape (64, 733)>"
      ]
     },
     "execution_count": 10,
     "metadata": {},
     "output_type": "execute_result"
    }
   ],
   "source": [
    "X_test_vectors"
   ]
  },
  {
   "cell_type": "markdown",
   "metadata": {},
   "source": [
    "### 3 - Training the model"
   ]
  },
  {
   "cell_type": "code",
   "execution_count": 11,
   "metadata": {},
   "outputs": [],
   "source": [
    "learner = ClassificationAlgorithms()"
   ]
  },
  {
   "cell_type": "markdown",
   "metadata": {},
   "source": [
    "#### KNN Algorithm"
   ]
  },
  {
   "cell_type": "code",
   "execution_count": 16,
   "metadata": {},
   "outputs": [],
   "source": [
    "(\n",
    "    pred_sub_class_train,\n",
    "    pred_sub_class_test,\n",
    "    prob_sub_class_train,\n",
    "    prob_sub_class_test,\n",
    ") = learner.k_nearest_neighbor(X_train_vectors, y_sub_class_train, X_test_vectors)"
   ]
  },
  {
   "cell_type": "code",
   "execution_count": 18,
   "metadata": {},
   "outputs": [
    {
     "data": {
      "text/plain": [
       "array([6, 3, 7, 5, 5, 8, 1, 1, 3, 5, 2, 2, 7, 0, 9, 2, 7, 7, 7, 3, 1, 5,\n",
       "       9, 8, 4, 1, 2, 0, 5, 4, 4, 9, 3, 0, 8, 8, 6, 1, 1, 9, 2, 6, 5, 5,\n",
       "       3, 3, 1, 6, 4, 7, 1, 5, 5, 2, 5, 3, 4, 3, 4, 9, 8, 7, 0, 0])"
      ]
     },
     "execution_count": 18,
     "metadata": {},
     "output_type": "execute_result"
    }
   ],
   "source": [
    "pred_sub_class_test"
   ]
  },
  {
   "cell_type": "code",
   "execution_count": 19,
   "metadata": {},
   "outputs": [],
   "source": [
    "performance_test_knn = accuracy_score(y_sub_class_test, pred_sub_class_test)"
   ]
  },
  {
   "cell_type": "code",
   "execution_count": 20,
   "metadata": {},
   "outputs": [
    {
     "data": {
      "text/plain": [
       "0.8125"
      ]
     },
     "execution_count": 20,
     "metadata": {},
     "output_type": "execute_result"
    }
   ],
   "source": [
    "performance_test_knn"
   ]
  },
  {
   "cell_type": "code",
   "execution_count": 24,
   "metadata": {},
   "outputs": [
    {
     "data": {
      "text/plain": [
       "0.3"
      ]
     },
     "execution_count": 24,
     "metadata": {},
     "output_type": "execute_result"
    }
   ],
   "source": [
    "prob_sub_class_test.iloc[0].max()"
   ]
  },
  {
   "cell_type": "code",
   "execution_count": 25,
   "metadata": {},
   "outputs": [
    {
     "ename": "AttributeError",
     "evalue": "'function' object has no attribute 'predict'",
     "output_type": "error",
     "traceback": [
      "\u001b[1;31m---------------------------------------------------------------------------\u001b[0m",
      "\u001b[1;31mAttributeError\u001b[0m                            Traceback (most recent call last)",
      "Cell \u001b[1;32mIn[25], line 34\u001b[0m\n\u001b[0;32m     32\u001b[0m \u001b[38;5;66;03m# 6. Example Usage\u001b[39;00m\n\u001b[0;32m     33\u001b[0m custom_sentence \u001b[38;5;241m=\u001b[39m \u001b[38;5;124m\"\u001b[39m\u001b[38;5;124mWrite me a Python script to automate sending emails.\u001b[39m\u001b[38;5;124m\"\u001b[39m\n\u001b[1;32m---> 34\u001b[0m sub_class, sub_class_conf, cluster, cluster_conf \u001b[38;5;241m=\u001b[39m \u001b[43mpredict_custom_sentence\u001b[49m\u001b[43m(\u001b[49m\n\u001b[0;32m     35\u001b[0m \u001b[43m    \u001b[49m\u001b[43mcustom_sentence\u001b[49m\u001b[43m,\u001b[49m\n\u001b[0;32m     36\u001b[0m \u001b[43m    \u001b[49m\u001b[43mlearner\u001b[49m\u001b[38;5;241;43m.\u001b[39;49m\u001b[43mk_nearest_neighbor\u001b[49m\u001b[43m,\u001b[49m\u001b[43m  \u001b[49m\u001b[38;5;66;43;03m# Replace with your trained sub-class model\u001b[39;49;00m\n\u001b[0;32m     37\u001b[0m \u001b[43m    \u001b[49m\u001b[43mlearner\u001b[49m\u001b[38;5;241;43m.\u001b[39;49m\u001b[43mk_nearest_neighbor\u001b[49m\u001b[43m,\u001b[49m\u001b[43m  \u001b[49m\u001b[38;5;66;43;03m# Replace with your trained cluster model\u001b[39;49;00m\n\u001b[0;32m     38\u001b[0m \u001b[43m    \u001b[49m\u001b[43mvectorizer\u001b[49m\u001b[43m,\u001b[49m\n\u001b[0;32m     39\u001b[0m \u001b[43m    \u001b[49m\u001b[43mlabel_encoder_sub_class\u001b[49m\u001b[43m,\u001b[49m\n\u001b[0;32m     40\u001b[0m \u001b[43m    \u001b[49m\u001b[43mlabel_encoder_cluster\u001b[49m\u001b[43m,\u001b[49m\n\u001b[0;32m     41\u001b[0m \u001b[43m)\u001b[49m\n\u001b[0;32m     43\u001b[0m \u001b[38;5;28mprint\u001b[39m(\u001b[38;5;124mf\u001b[39m\u001b[38;5;124m\"\u001b[39m\u001b[38;5;124mPredicted Sub-class: \u001b[39m\u001b[38;5;132;01m{\u001b[39;00msub_class\u001b[38;5;132;01m}\u001b[39;00m\u001b[38;5;124m (Confidence: \u001b[39m\u001b[38;5;132;01m{\u001b[39;00msub_class_conf\u001b[38;5;132;01m:\u001b[39;00m\u001b[38;5;124m.4f\u001b[39m\u001b[38;5;132;01m}\u001b[39;00m\u001b[38;5;124m)\u001b[39m\u001b[38;5;124m\"\u001b[39m)\n\u001b[0;32m     44\u001b[0m \u001b[38;5;28mprint\u001b[39m(\u001b[38;5;124mf\u001b[39m\u001b[38;5;124m\"\u001b[39m\u001b[38;5;124mPredicted Cluster: \u001b[39m\u001b[38;5;132;01m{\u001b[39;00mcluster\u001b[38;5;132;01m}\u001b[39;00m\u001b[38;5;124m (Confidence: \u001b[39m\u001b[38;5;132;01m{\u001b[39;00mcluster_conf\u001b[38;5;132;01m:\u001b[39;00m\u001b[38;5;124m.4f\u001b[39m\u001b[38;5;132;01m}\u001b[39;00m\u001b[38;5;124m)\u001b[39m\u001b[38;5;124m\"\u001b[39m)\n",
      "Cell \u001b[1;32mIn[25], line 16\u001b[0m, in \u001b[0;36mpredict_custom_sentence\u001b[1;34m(sentence, sub_class_model, cluster_model, vectorizer, label_encoder_sub_class, label_encoder_cluster)\u001b[0m\n\u001b[0;32m     13\u001b[0m sentence_vectorized \u001b[38;5;241m=\u001b[39m vectorizer\u001b[38;5;241m.\u001b[39mtransform([sentence])\n\u001b[0;32m     15\u001b[0m \u001b[38;5;66;03m# 2. Predict Sub-class\u001b[39;00m\n\u001b[1;32m---> 16\u001b[0m pred_sub_class \u001b[38;5;241m=\u001b[39m \u001b[43msub_class_model\u001b[49m\u001b[38;5;241;43m.\u001b[39;49m\u001b[43mpredict\u001b[49m(sentence_vectorized)[\u001b[38;5;241m0\u001b[39m]\n\u001b[0;32m     17\u001b[0m prob_sub_class \u001b[38;5;241m=\u001b[39m sub_class_model\u001b[38;5;241m.\u001b[39mpredict_proba(sentence_vectorized)[\u001b[38;5;241m0\u001b[39m]\n\u001b[0;32m     18\u001b[0m confidence_sub_class \u001b[38;5;241m=\u001b[39m prob_sub_class\u001b[38;5;241m.\u001b[39mmax()\n",
      "\u001b[1;31mAttributeError\u001b[0m: 'function' object has no attribute 'predict'"
     ]
    }
   ],
   "source": [
    "# 5. Function to Predict for a Custom Sentence\n",
    "def predict_custom_sentence(\n",
    "    sentence,\n",
    "    sub_class_model,\n",
    "    cluster_model,\n",
    "    vectorizer,\n",
    "    label_encoder_sub_class,\n",
    "    label_encoder_cluster,\n",
    "):\n",
    "    \"\"\"Predicts sub-class and cluster for a custom sentence.\"\"\"\n",
    "\n",
    "    # 1. Vectorize the sentence\n",
    "    sentence_vectorized = vectorizer.transform([sentence])\n",
    "\n",
    "    # 2. Predict Sub-class\n",
    "    pred_sub_class = sub_class_model.predict(sentence_vectorized)[0]\n",
    "    prob_sub_class = sub_class_model.predict_proba(sentence_vectorized)[0]\n",
    "    confidence_sub_class = prob_sub_class.max()\n",
    "\n",
    "    # 3. Predict Cluster\n",
    "    pred_cluster = cluster_model.predict(sentence_vectorized)[0]\n",
    "    prob_cluster = cluster_model.predict_proba(sentence_vectorized)[0]\n",
    "    confidence_cluster = prob_cluster.max()\n",
    "\n",
    "    # 4. Decode Predictions\n",
    "    decoded_sub_class = label_encoder_sub_class.inverse_transform([pred_sub_class])[0]\n",
    "    decoded_cluster = label_encoder_cluster.inverse_transform([pred_cluster])[0]\n",
    "\n",
    "    return decoded_sub_class, confidence_sub_class, decoded_cluster, confidence_cluster\n",
    "\n",
    "\n",
    "# 6. Example Usage\n",
    "custom_sentence = \"Write me a Python script to automate sending emails.\"\n",
    "sub_class, sub_class_conf, cluster, cluster_conf = predict_custom_sentence(\n",
    "    custom_sentence,\n",
    "    learner.k_nearest_neighbor,  # Replace with your trained sub-class model\n",
    "    learner.k_nearest_neighbor,  # Replace with your trained cluster model\n",
    "    vectorizer,\n",
    "    label_encoder_sub_class,\n",
    "    label_encoder_cluster,\n",
    ")\n",
    "\n",
    "print(f\"Predicted Sub-class: {sub_class} (Confidence: {sub_class_conf:.4f})\")\n",
    "print(f\"Predicted Cluster: {cluster} (Confidence: {cluster_conf:.4f})\")"
   ]
  },
  {
   "cell_type": "code",
   "execution_count": 26,
   "metadata": {},
   "outputs": [
    {
     "data": {
      "text/html": [
       "<div>\n",
       "<style scoped>\n",
       "    .dataframe tbody tr th:only-of-type {\n",
       "        vertical-align: middle;\n",
       "    }\n",
       "\n",
       "    .dataframe tbody tr th {\n",
       "        vertical-align: top;\n",
       "    }\n",
       "\n",
       "    .dataframe thead th {\n",
       "        text-align: right;\n",
       "    }\n",
       "</style>\n",
       "<table border=\"1\" class=\"dataframe\">\n",
       "  <thead>\n",
       "    <tr style=\"text-align: right;\">\n",
       "      <th></th>\n",
       "      <th>prompt</th>\n",
       "      <th>cluster</th>\n",
       "      <th>sub_class</th>\n",
       "    </tr>\n",
       "  </thead>\n",
       "  <tbody>\n",
       "    <tr>\n",
       "      <th>0</th>\n",
       "      <td>How can I integrate a chatbot into my website ...</td>\n",
       "      <td>Communication</td>\n",
       "      <td>Chatbots and Virtual Assistants</td>\n",
       "    </tr>\n",
       "    <tr>\n",
       "      <th>1</th>\n",
       "      <td>What are the best practices for designing a co...</td>\n",
       "      <td>Communication</td>\n",
       "      <td>Chatbots and Virtual Assistants</td>\n",
       "    </tr>\n",
       "    <tr>\n",
       "      <th>2</th>\n",
       "      <td>Can chatbots handle complex queries, or are th...</td>\n",
       "      <td>Communication</td>\n",
       "      <td>Chatbots and Virtual Assistants</td>\n",
       "    </tr>\n",
       "    <tr>\n",
       "      <th>3</th>\n",
       "      <td>What platforms are available for building cust...</td>\n",
       "      <td>Communication</td>\n",
       "      <td>Chatbots and Virtual Assistants</td>\n",
       "    </tr>\n",
       "    <tr>\n",
       "      <th>4</th>\n",
       "      <td>How do I ensure my chatbot understands user in...</td>\n",
       "      <td>Communication</td>\n",
       "      <td>Chatbots and Virtual Assistants</td>\n",
       "    </tr>\n",
       "    <tr>\n",
       "      <th>...</th>\n",
       "      <td>...</td>\n",
       "      <td>...</td>\n",
       "      <td>...</td>\n",
       "    </tr>\n",
       "    <tr>\n",
       "      <th>311</th>\n",
       "      <td>Draft an email to promote an upcoming sale to ...</td>\n",
       "      <td>Business and Productivity</td>\n",
       "      <td>Email Generation</td>\n",
       "    </tr>\n",
       "    <tr>\n",
       "      <th>312</th>\n",
       "      <td>Write an email to request a meeting with a pot...</td>\n",
       "      <td>Business and Productivity</td>\n",
       "      <td>Email Generation</td>\n",
       "    </tr>\n",
       "    <tr>\n",
       "      <th>313</th>\n",
       "      <td>Compose an email to express appreciation to a ...</td>\n",
       "      <td>Business and Productivity</td>\n",
       "      <td>Email Generation</td>\n",
       "    </tr>\n",
       "    <tr>\n",
       "      <th>314</th>\n",
       "      <td>Generate an email to solicit feedback from emp...</td>\n",
       "      <td>Business and Productivity</td>\n",
       "      <td>Email Generation</td>\n",
       "    </tr>\n",
       "    <tr>\n",
       "      <th>315</th>\n",
       "      <td>Draft an email to inform clients about a tempo...</td>\n",
       "      <td>Business and Productivity</td>\n",
       "      <td>Email Generation</td>\n",
       "    </tr>\n",
       "  </tbody>\n",
       "</table>\n",
       "<p>316 rows × 3 columns</p>\n",
       "</div>"
      ],
      "text/plain": [
       "                                                prompt  \\\n",
       "0    How can I integrate a chatbot into my website ...   \n",
       "1    What are the best practices for designing a co...   \n",
       "2    Can chatbots handle complex queries, or are th...   \n",
       "3    What platforms are available for building cust...   \n",
       "4    How do I ensure my chatbot understands user in...   \n",
       "..                                                 ...   \n",
       "311  Draft an email to promote an upcoming sale to ...   \n",
       "312  Write an email to request a meeting with a pot...   \n",
       "313  Compose an email to express appreciation to a ...   \n",
       "314  Generate an email to solicit feedback from emp...   \n",
       "315  Draft an email to inform clients about a tempo...   \n",
       "\n",
       "                       cluster                        sub_class  \n",
       "0                Communication  Chatbots and Virtual Assistants  \n",
       "1                Communication  Chatbots and Virtual Assistants  \n",
       "2                Communication  Chatbots and Virtual Assistants  \n",
       "3                Communication  Chatbots and Virtual Assistants  \n",
       "4                Communication  Chatbots and Virtual Assistants  \n",
       "..                         ...                              ...  \n",
       "311  Business and Productivity                 Email Generation  \n",
       "312  Business and Productivity                 Email Generation  \n",
       "313  Business and Productivity                 Email Generation  \n",
       "314  Business and Productivity                 Email Generation  \n",
       "315  Business and Productivity                 Email Generation  \n",
       "\n",
       "[316 rows x 3 columns]"
      ]
     },
     "execution_count": 26,
     "metadata": {},
     "output_type": "execute_result"
    }
   ],
   "source": [
    "df"
   ]
  },
  {
   "cell_type": "code",
   "execution_count": 27,
   "metadata": {},
   "outputs": [
    {
     "name": "stdout",
     "output_type": "stream",
     "text": [
      "<class 'pandas.core.frame.DataFrame'>\n",
      "RangeIndex: 316 entries, 0 to 315\n",
      "Data columns (total 3 columns):\n",
      " #   Column     Non-Null Count  Dtype \n",
      "---  ------     --------------  ----- \n",
      " 0   prompt     316 non-null    object\n",
      " 1   cluster    316 non-null    object\n",
      " 2   sub_class  316 non-null    object\n",
      "dtypes: object(3)\n",
      "memory usage: 7.5+ KB\n"
     ]
    }
   ],
   "source": [
    "df.info()"
   ]
  },
  {
   "cell_type": "code",
   "execution_count": 28,
   "metadata": {},
   "outputs": [],
   "source": [
    "###"
   ]
  },
  {
   "cell_type": "code",
   "execution_count": 35,
   "metadata": {},
   "outputs": [],
   "source": [
    "import pandas as pd\n",
    "from sklearn.model_selection import train_test_split, cross_val_score, StratifiedKFold\n",
    "from sklearn.feature_extraction.text import TfidfVectorizer\n",
    "from sklearn.pipeline import Pipeline\n",
    "from sklearn.linear_model import LogisticRegression\n",
    "from sklearn.svm import SVC\n",
    "from sklearn.naive_bayes import MultinomialNB\n",
    "from sklearn.ensemble import RandomForestClassifier\n",
    "from sklearn.metrics import accuracy_score, f1_score, confusion_matrix\n",
    "\n",
    "import nltk\n",
    "from nltk.corpus import stopwords\n",
    "from nltk.stem import WordNetLemmatizer\n",
    "import string"
   ]
  },
  {
   "cell_type": "code",
   "execution_count": 32,
   "metadata": {},
   "outputs": [
    {
     "name": "stderr",
     "output_type": "stream",
     "text": [
      "[nltk_data] Downloading package punkt to C:\\Users\\win\n",
      "[nltk_data]     11\\AppData\\Roaming\\nltk_data...\n",
      "[nltk_data]   Package punkt is already up-to-date!\n",
      "[nltk_data] Downloading package stopwords to C:\\Users\\win\n",
      "[nltk_data]     11\\AppData\\Roaming\\nltk_data...\n",
      "[nltk_data]   Unzipping corpora\\stopwords.zip.\n",
      "[nltk_data] Downloading package wordnet to C:\\Users\\win\n",
      "[nltk_data]     11\\AppData\\Roaming\\nltk_data...\n"
     ]
    },
    {
     "data": {
      "text/plain": [
       "True"
      ]
     },
     "execution_count": 32,
     "metadata": {},
     "output_type": "execute_result"
    }
   ],
   "source": [
    "nltk.download(\"punkt\")\n",
    "nltk.download(\"stopwords\")\n",
    "nltk.download(\"wordnet\")"
   ]
  },
  {
   "cell_type": "code",
   "execution_count": 30,
   "metadata": {},
   "outputs": [
    {
     "data": {
      "text/html": [
       "<div>\n",
       "<style scoped>\n",
       "    .dataframe tbody tr th:only-of-type {\n",
       "        vertical-align: middle;\n",
       "    }\n",
       "\n",
       "    .dataframe tbody tr th {\n",
       "        vertical-align: top;\n",
       "    }\n",
       "\n",
       "    .dataframe thead th {\n",
       "        text-align: right;\n",
       "    }\n",
       "</style>\n",
       "<table border=\"1\" class=\"dataframe\">\n",
       "  <thead>\n",
       "    <tr style=\"text-align: right;\">\n",
       "      <th></th>\n",
       "      <th>prompt</th>\n",
       "      <th>cluster</th>\n",
       "      <th>sub_class</th>\n",
       "    </tr>\n",
       "  </thead>\n",
       "  <tbody>\n",
       "    <tr>\n",
       "      <th>0</th>\n",
       "      <td>How can I integrate a chatbot into my website ...</td>\n",
       "      <td>Communication</td>\n",
       "      <td>Chatbots and Virtual Assistants</td>\n",
       "    </tr>\n",
       "    <tr>\n",
       "      <th>1</th>\n",
       "      <td>What are the best practices for designing a co...</td>\n",
       "      <td>Communication</td>\n",
       "      <td>Chatbots and Virtual Assistants</td>\n",
       "    </tr>\n",
       "    <tr>\n",
       "      <th>2</th>\n",
       "      <td>Can chatbots handle complex queries, or are th...</td>\n",
       "      <td>Communication</td>\n",
       "      <td>Chatbots and Virtual Assistants</td>\n",
       "    </tr>\n",
       "    <tr>\n",
       "      <th>3</th>\n",
       "      <td>What platforms are available for building cust...</td>\n",
       "      <td>Communication</td>\n",
       "      <td>Chatbots and Virtual Assistants</td>\n",
       "    </tr>\n",
       "    <tr>\n",
       "      <th>4</th>\n",
       "      <td>How do I ensure my chatbot understands user in...</td>\n",
       "      <td>Communication</td>\n",
       "      <td>Chatbots and Virtual Assistants</td>\n",
       "    </tr>\n",
       "  </tbody>\n",
       "</table>\n",
       "</div>"
      ],
      "text/plain": [
       "                                              prompt        cluster  \\\n",
       "0  How can I integrate a chatbot into my website ...  Communication   \n",
       "1  What are the best practices for designing a co...  Communication   \n",
       "2  Can chatbots handle complex queries, or are th...  Communication   \n",
       "3  What platforms are available for building cust...  Communication   \n",
       "4  How do I ensure my chatbot understands user in...  Communication   \n",
       "\n",
       "                         sub_class  \n",
       "0  Chatbots and Virtual Assistants  \n",
       "1  Chatbots and Virtual Assistants  \n",
       "2  Chatbots and Virtual Assistants  \n",
       "3  Chatbots and Virtual Assistants  \n",
       "4  Chatbots and Virtual Assistants  "
      ]
     },
     "execution_count": 30,
     "metadata": {},
     "output_type": "execute_result"
    }
   ],
   "source": [
    "df = pd.read_csv(\"../data/raw/prompts_v1.csv\")\n",
    "df.head()"
   ]
  },
  {
   "cell_type": "code",
   "execution_count": 33,
   "metadata": {},
   "outputs": [],
   "source": [
    "# Initialize lemmatizer and stopwords\n",
    "lemmatizer = WordNetLemmatizer()\n",
    "stop_words = set(stopwords.words(\"english\"))"
   ]
  },
  {
   "cell_type": "code",
   "execution_count": 36,
   "metadata": {},
   "outputs": [],
   "source": [
    "# Preprocessing function\n",
    "def preprocess_text(text):\n",
    "    # Convert text to lowercase\n",
    "    text = text.lower()\n",
    "\n",
    "    # Remove punctuation\n",
    "    text = text.translate(str.maketrans(\"\", \"\", string.punctuation))\n",
    "\n",
    "    # Tokenize text\n",
    "    tokens = nltk.word_tokenize(text)\n",
    "\n",
    "    # Remove stopwords and apply lemmatization\n",
    "    tokens = [lemmatizer.lemmatize(word) for word in tokens if word not in stop_words]\n",
    "\n",
    "    # Join tokens back to string\n",
    "    processed_text = \" \".join(tokens)\n",
    "\n",
    "    return processed_text"
   ]
  },
  {
   "cell_type": "code",
   "execution_count": 37,
   "metadata": {},
   "outputs": [],
   "source": [
    "df[\"processed_prompt\"] = df[\"prompt\"].apply(preprocess_text)"
   ]
  },
  {
   "cell_type": "code",
   "execution_count": 38,
   "metadata": {},
   "outputs": [
    {
     "data": {
      "text/html": [
       "<div>\n",
       "<style scoped>\n",
       "    .dataframe tbody tr th:only-of-type {\n",
       "        vertical-align: middle;\n",
       "    }\n",
       "\n",
       "    .dataframe tbody tr th {\n",
       "        vertical-align: top;\n",
       "    }\n",
       "\n",
       "    .dataframe thead th {\n",
       "        text-align: right;\n",
       "    }\n",
       "</style>\n",
       "<table border=\"1\" class=\"dataframe\">\n",
       "  <thead>\n",
       "    <tr style=\"text-align: right;\">\n",
       "      <th></th>\n",
       "      <th>prompt</th>\n",
       "      <th>cluster</th>\n",
       "      <th>sub_class</th>\n",
       "      <th>processed_prompt</th>\n",
       "    </tr>\n",
       "  </thead>\n",
       "  <tbody>\n",
       "    <tr>\n",
       "      <th>0</th>\n",
       "      <td>How can I integrate a chatbot into my website ...</td>\n",
       "      <td>Communication</td>\n",
       "      <td>Chatbots and Virtual Assistants</td>\n",
       "      <td>integrate chatbot website customer support</td>\n",
       "    </tr>\n",
       "    <tr>\n",
       "      <th>1</th>\n",
       "      <td>What are the best practices for designing a co...</td>\n",
       "      <td>Communication</td>\n",
       "      <td>Chatbots and Virtual Assistants</td>\n",
       "      <td>best practice designing conversational flow vi...</td>\n",
       "    </tr>\n",
       "    <tr>\n",
       "      <th>2</th>\n",
       "      <td>Can chatbots handle complex queries, or are th...</td>\n",
       "      <td>Communication</td>\n",
       "      <td>Chatbots and Virtual Assistants</td>\n",
       "      <td>chatbots handle complex query better simple task</td>\n",
       "    </tr>\n",
       "    <tr>\n",
       "      <th>3</th>\n",
       "      <td>What platforms are available for building cust...</td>\n",
       "      <td>Communication</td>\n",
       "      <td>Chatbots and Virtual Assistants</td>\n",
       "      <td>platform available building custom chatbots</td>\n",
       "    </tr>\n",
       "    <tr>\n",
       "      <th>4</th>\n",
       "      <td>How do I ensure my chatbot understands user in...</td>\n",
       "      <td>Communication</td>\n",
       "      <td>Chatbots and Virtual Assistants</td>\n",
       "      <td>ensure chatbot understands user intent accurately</td>\n",
       "    </tr>\n",
       "    <tr>\n",
       "      <th>...</th>\n",
       "      <td>...</td>\n",
       "      <td>...</td>\n",
       "      <td>...</td>\n",
       "      <td>...</td>\n",
       "    </tr>\n",
       "    <tr>\n",
       "      <th>311</th>\n",
       "      <td>Draft an email to promote an upcoming sale to ...</td>\n",
       "      <td>Business and Productivity</td>\n",
       "      <td>Email Generation</td>\n",
       "      <td>draft email promote upcoming sale customer base</td>\n",
       "    </tr>\n",
       "    <tr>\n",
       "      <th>312</th>\n",
       "      <td>Write an email to request a meeting with a pot...</td>\n",
       "      <td>Business and Productivity</td>\n",
       "      <td>Email Generation</td>\n",
       "      <td>write email request meeting potential investor</td>\n",
       "    </tr>\n",
       "    <tr>\n",
       "      <th>313</th>\n",
       "      <td>Compose an email to express appreciation to a ...</td>\n",
       "      <td>Business and Productivity</td>\n",
       "      <td>Email Generation</td>\n",
       "      <td>compose email express appreciation mentor guid...</td>\n",
       "    </tr>\n",
       "    <tr>\n",
       "      <th>314</th>\n",
       "      <td>Generate an email to solicit feedback from emp...</td>\n",
       "      <td>Business and Productivity</td>\n",
       "      <td>Email Generation</td>\n",
       "      <td>generate email solicit feedback employee new p...</td>\n",
       "    </tr>\n",
       "    <tr>\n",
       "      <th>315</th>\n",
       "      <td>Draft an email to inform clients about a tempo...</td>\n",
       "      <td>Business and Productivity</td>\n",
       "      <td>Email Generation</td>\n",
       "      <td>draft email inform client temporary service in...</td>\n",
       "    </tr>\n",
       "  </tbody>\n",
       "</table>\n",
       "<p>316 rows × 4 columns</p>\n",
       "</div>"
      ],
      "text/plain": [
       "                                                prompt  \\\n",
       "0    How can I integrate a chatbot into my website ...   \n",
       "1    What are the best practices for designing a co...   \n",
       "2    Can chatbots handle complex queries, or are th...   \n",
       "3    What platforms are available for building cust...   \n",
       "4    How do I ensure my chatbot understands user in...   \n",
       "..                                                 ...   \n",
       "311  Draft an email to promote an upcoming sale to ...   \n",
       "312  Write an email to request a meeting with a pot...   \n",
       "313  Compose an email to express appreciation to a ...   \n",
       "314  Generate an email to solicit feedback from emp...   \n",
       "315  Draft an email to inform clients about a tempo...   \n",
       "\n",
       "                       cluster                        sub_class  \\\n",
       "0                Communication  Chatbots and Virtual Assistants   \n",
       "1                Communication  Chatbots and Virtual Assistants   \n",
       "2                Communication  Chatbots and Virtual Assistants   \n",
       "3                Communication  Chatbots and Virtual Assistants   \n",
       "4                Communication  Chatbots and Virtual Assistants   \n",
       "..                         ...                              ...   \n",
       "311  Business and Productivity                 Email Generation   \n",
       "312  Business and Productivity                 Email Generation   \n",
       "313  Business and Productivity                 Email Generation   \n",
       "314  Business and Productivity                 Email Generation   \n",
       "315  Business and Productivity                 Email Generation   \n",
       "\n",
       "                                      processed_prompt  \n",
       "0           integrate chatbot website customer support  \n",
       "1    best practice designing conversational flow vi...  \n",
       "2     chatbots handle complex query better simple task  \n",
       "3          platform available building custom chatbots  \n",
       "4    ensure chatbot understands user intent accurately  \n",
       "..                                                 ...  \n",
       "311    draft email promote upcoming sale customer base  \n",
       "312     write email request meeting potential investor  \n",
       "313  compose email express appreciation mentor guid...  \n",
       "314  generate email solicit feedback employee new p...  \n",
       "315  draft email inform client temporary service in...  \n",
       "\n",
       "[316 rows x 4 columns]"
      ]
     },
     "execution_count": 38,
     "metadata": {},
     "output_type": "execute_result"
    }
   ],
   "source": [
    "df"
   ]
  },
  {
   "cell_type": "code",
   "execution_count": 39,
   "metadata": {},
   "outputs": [],
   "source": [
    "# Feature Extraction\n",
    "\n",
    "vectorizer = TfidfVectorizer(max_features=1000)\n",
    "X = vectorizer.fit_transform(df[\"processed_prompt\"])"
   ]
  },
  {
   "cell_type": "code",
   "execution_count": 40,
   "metadata": {},
   "outputs": [],
   "source": [
    "# Label Encoding\n",
    "le_cluster = LabelEncoder()\n",
    "le_sub_class = LabelEncoder()\n",
    "\n",
    "df[\"cluster_encoded\"] = le_cluster.fit_transform(df[\"cluster\"])\n",
    "df[\"sub_class_encoded\"] = le_sub_class.fit_transform(df[\"sub_class\"])\n",
    "\n",
    "# The labels you will use for training\n",
    "y_cluster = df[\"cluster_encoded\"]\n",
    "y_sub_class = df[\"sub_class_encoded\"]"
   ]
  },
  {
   "cell_type": "code",
   "execution_count": 43,
   "metadata": {},
   "outputs": [
    {
     "name": "stdout",
     "output_type": "stream",
     "text": [
      "Logistic Regression - Accuracy: 0.9375, F1 Score: 0.9358251463210703\n",
      "Confusion Matrix:\n",
      " [[13  0  0  0]\n",
      " [ 0 19  0  0]\n",
      " [ 0  1 18  0]\n",
      " [ 0  1  2 10]]\n",
      "\n",
      "SVM - Accuracy: 0.9375, F1 Score: 0.9356929347826086\n",
      "Confusion Matrix:\n",
      " [[12  1  0  0]\n",
      " [ 0 19  0  0]\n",
      " [ 0  0 19  0]\n",
      " [ 0  1  2 10]]\n",
      "\n",
      "Naive Bayes - Accuracy: 0.875, F1 Score: 0.8732541235937976\n",
      "Confusion Matrix:\n",
      " [[ 9  4  0  0]\n",
      " [ 0 19  0  0]\n",
      " [ 0  1 18  0]\n",
      " [ 0  1  2 10]]\n",
      "\n"
     ]
    }
   ],
   "source": [
    "# Cluster model\n",
    "\n",
    "X_train, X_test, y_train, y_test = train_test_split(\n",
    "    X, y_cluster, test_size=0.2, stratify=y_cluster\n",
    ")\n",
    "\n",
    "# Define models to evaluate\n",
    "models = {\n",
    "    \"Logistic Regression\": LogisticRegression(),\n",
    "    \"SVM\": SVC(),\n",
    "    \"Naive Bayes\": MultinomialNB(),\n",
    "}\n",
    "\n",
    "for name, model in models.items():\n",
    "    model.fit(X_train, y_train)\n",
    "    y_pred = model.predict(X_test)\n",
    "    print(\n",
    "        f\"{name} - Accuracy: {accuracy_score(y_test, y_pred)}, F1 Score: {f1_score(y_test, y_pred, average='weighted')}\"\n",
    "    )\n",
    "    print(f\"Confusion Matrix:\\n {confusion_matrix(y_test, y_pred)}\\n\")"
   ]
  },
  {
   "cell_type": "code",
   "execution_count": 45,
   "metadata": {},
   "outputs": [
    {
     "name": "stdout",
     "output_type": "stream",
     "text": [
      "Logistic Regression - Cross-Validated F1 Score: 0.9369231245582176 (0.046766422800450236)\n",
      "SVM - Cross-Validated F1 Score: 0.9328057211693563 (0.06001816352209688)\n",
      "Naive Bayes - Cross-Validated F1 Score: 0.9002699927649486 (0.07742751425161094)\n"
     ]
    }
   ],
   "source": [
    "kfold = StratifiedKFold(n_splits=5)\n",
    "for name, model in models.items():\n",
    "    cv_results = cross_val_score(model, X, y_cluster, cv=kfold, scoring=\"f1_weighted\")\n",
    "    print(\n",
    "        f\"{name} - Cross-Validated F1 Score: {cv_results.mean()} ({cv_results.std()})\"\n",
    "    )"
   ]
  },
  {
   "cell_type": "code",
   "execution_count": 49,
   "metadata": {},
   "outputs": [],
   "source": [
    "log_reg = models[\"Logistic Regression\"]\n",
    "loaded_vector = vectorizer"
   ]
  },
  {
   "cell_type": "code",
   "execution_count": 73,
   "metadata": {},
   "outputs": [],
   "source": [
    "# 3. Making predictions on new data\n",
    "def predict_cluster_and_subclass(new_prompt):\n",
    "    # Preprocess the new prompt\n",
    "    processed_prompt = preprocess_text(new_prompt)\n",
    "\n",
    "    # Transform the processed prompt using the loaded vectorizer\n",
    "    X_new = loaded_vector.transform([processed_prompt])\n",
    "\n",
    "    # Predict the cluster\n",
    "    probabilities = log_reg.predict_proba(X_new)\n",
    "\n",
    "    # Get the index of the highest probability (the predicted class)\n",
    "    predicted_index = probabilities.argmax(axis=1)\n",
    "\n",
    "    # Get the confidence score (highest probability)\n",
    "    confidence_score = probabilities[0][predicted_index]\n",
    "\n",
    "    # Convert the predicted cluster from its numerical label back to the original string label\n",
    "    predicted_cluster_label = le_cluster.inverse_transform(predicted_index)\n",
    "\n",
    "    return predicted_cluster_label[0], confidence_score, probabilities, predicted_index"
   ]
  },
  {
   "cell_type": "code",
   "execution_count": 74,
   "metadata": {},
   "outputs": [],
   "source": [
    "x, y, z, a = predict_cluster_and_subclass(\"How to create an API?\")"
   ]
  },
  {
   "cell_type": "code",
   "execution_count": 75,
   "metadata": {},
   "outputs": [
    {
     "data": {
      "text/plain": [
       "('Programming and Development', array([0.71459811]))"
      ]
     },
     "execution_count": 75,
     "metadata": {},
     "output_type": "execute_result"
    }
   ],
   "source": [
    "x, y"
   ]
  },
  {
   "cell_type": "code",
   "execution_count": 72,
   "metadata": {},
   "outputs": [
    {
     "data": {
      "text/plain": [
       "array([[0.08806466, 0.06255716, 0.13478007, 0.71459811]])"
      ]
     },
     "execution_count": 72,
     "metadata": {},
     "output_type": "execute_result"
    }
   ],
   "source": [
    "z"
   ]
  },
  {
   "cell_type": "code",
   "execution_count": 64,
   "metadata": {},
   "outputs": [
    {
     "data": {
      "text/plain": [
       "array([3], dtype=int64)"
      ]
     },
     "execution_count": 64,
     "metadata": {},
     "output_type": "execute_result"
    }
   ],
   "source": [
    "a"
   ]
  },
  {
   "cell_type": "code",
   "execution_count": null,
   "metadata": {},
   "outputs": [],
   "source": []
  }
 ],
 "metadata": {
  "kernelspec": {
   "display_name": "llm-data-analyst",
   "language": "python",
   "name": "python3"
  },
  "language_info": {
   "codemirror_mode": {
    "name": "ipython",
    "version": 3
   },
   "file_extension": ".py",
   "mimetype": "text/x-python",
   "name": "python",
   "nbconvert_exporter": "python",
   "pygments_lexer": "ipython3",
   "version": "3.10.14"
  }
 },
 "nbformat": 4,
 "nbformat_minor": 2
}
